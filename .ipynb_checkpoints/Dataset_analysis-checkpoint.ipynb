{
 "cells": [
  {
   "cell_type": "markdown",
   "id": "6bba7bf9",
   "metadata": {},
   "source": [
    "## Introduction"
   ]
  },
  {
   "cell_type": "markdown",
   "id": "9f68909f",
   "metadata": {},
   "source": [
    "We can classify customer satisfaction as a performance indicator that shows how well a company is able to meet consumer expectations before, during, and after a purchase.\n",
    "\n",
    "When it is high, this metric signals compatibility between what the company offers and what the customer needs. It is a good gauge to understand if the provided service and created experience make sense for the target audience.\n",
    "\n",
    "On the other hand, if customer satisfaction is low, it means that the consumer's expectations were not met – whether it's related to the service, product, or purchased service. And this can greatly harm your brand reputation."
   ]
  },
  {
   "cell_type": "markdown",
   "id": "d71200e1",
   "metadata": {},
   "source": [
    "In this project, the customer satisfaction dataset extracted from Kaggle will be analyzed, and the following phases will be implemented: <br>\n",
    "\n",
    "    1) Data import, \n",
    "    2) Data analysis, \n",
    "    3) Data transformation, \n",
    "    4) Loading of processed data, \n",
    "    5) Machine learning model training, \n",
    "    6) Model testing, and\n",
    "    7) Model implementation."
   ]
  },
  {
   "cell_type": "markdown",
   "id": "2d8da08c",
   "metadata": {},
   "source": [
    "## Import"
   ]
  },
  {
   "cell_type": "code",
   "execution_count": 1,
   "id": "b9e7855f",
   "metadata": {},
   "outputs": [
    {
     "name": "stderr",
     "output_type": "stream",
     "text": [
      "C:\\Users\\LILIAN\\.conda\\envs\\analisedados\\lib\\site-packages\\numpy\\_distributor_init.py:30: UserWarning: loaded more than 1 DLL from .libs:\n",
      "C:\\Users\\LILIAN\\.conda\\envs\\analisedados\\lib\\site-packages\\numpy\\.libs\\libopenblas.FB5AE2TYXYH2IJRDKGDGQ3XBKLKTF43H.gfortran-win_amd64.dll\n",
      "C:\\Users\\LILIAN\\.conda\\envs\\analisedados\\lib\\site-packages\\numpy\\.libs\\libopenblas64__v0.3.21-gcc_10_3_0.dll\n",
      "  warnings.warn(\"loaded more than 1 DLL from .libs:\"\n",
      "C:\\Users\\LILIAN\\.conda\\envs\\analisedados\\lib\\site-packages\\tqdm\\auto.py:21: TqdmWarning: IProgress not found. Please update jupyter and ipywidgets. See https://ipywidgets.readthedocs.io/en/stable/user_install.html\n",
      "  from .autonotebook import tqdm as notebook_tqdm\n",
      "C:\\Users\\LILIAN\\AppData\\Local\\Temp\\ipykernel_8264\\3442368844.py:6: DeprecationWarning: `import pandas_profiling` is going to be deprecated by April 1st. Please use `import ydata_profiling` instead.\n",
      "  import pandas_profiling\n"
     ]
    }
   ],
   "source": [
    "# Importing libraries\n",
    "\n",
    "import pandas as pd\n",
    "import matplotlib.pyplot as plt\n",
    "import seaborn as sns\n",
    "import pandas_profiling"
   ]
  },
  {
   "cell_type": "code",
   "execution_count": 13,
   "id": "df2e247f",
   "metadata": {},
   "outputs": [],
   "source": [
    "# Importing dataset\n",
    "\n",
    "url = 'https://raw.githubusercontent.com/liliansom/ML_CustomerSatisfaction/main/data/Invistico_Airline.csv'\n",
    "data = pd.read_csv(url)\n"
   ]
  },
  {
   "cell_type": "code",
   "execution_count": 14,
   "id": "f6a0c299",
   "metadata": {},
   "outputs": [
    {
     "data": {
      "text/html": [
       "<div>\n",
       "<style scoped>\n",
       "    .dataframe tbody tr th:only-of-type {\n",
       "        vertical-align: middle;\n",
       "    }\n",
       "\n",
       "    .dataframe tbody tr th {\n",
       "        vertical-align: top;\n",
       "    }\n",
       "\n",
       "    .dataframe thead th {\n",
       "        text-align: right;\n",
       "    }\n",
       "</style>\n",
       "<table border=\"1\" class=\"dataframe\">\n",
       "  <thead>\n",
       "    <tr style=\"text-align: right;\">\n",
       "      <th></th>\n",
       "      <th>satisfaction</th>\n",
       "      <th>Gender</th>\n",
       "      <th>Customer Type</th>\n",
       "      <th>Age</th>\n",
       "      <th>Type of Travel</th>\n",
       "      <th>Class</th>\n",
       "      <th>Flight Distance</th>\n",
       "      <th>Seat comfort</th>\n",
       "      <th>Departure/Arrival time convenient</th>\n",
       "      <th>Food and drink</th>\n",
       "      <th>...</th>\n",
       "      <th>Online support</th>\n",
       "      <th>Ease of Online booking</th>\n",
       "      <th>On-board service</th>\n",
       "      <th>Leg room service</th>\n",
       "      <th>Baggage handling</th>\n",
       "      <th>Checkin service</th>\n",
       "      <th>Cleanliness</th>\n",
       "      <th>Online boarding</th>\n",
       "      <th>Departure Delay in Minutes</th>\n",
       "      <th>Arrival Delay in Minutes</th>\n",
       "    </tr>\n",
       "  </thead>\n",
       "  <tbody>\n",
       "    <tr>\n",
       "      <th>0</th>\n",
       "      <td>satisfied</td>\n",
       "      <td>Female</td>\n",
       "      <td>Loyal Customer</td>\n",
       "      <td>65</td>\n",
       "      <td>Personal Travel</td>\n",
       "      <td>Eco</td>\n",
       "      <td>265</td>\n",
       "      <td>0</td>\n",
       "      <td>0</td>\n",
       "      <td>0</td>\n",
       "      <td>...</td>\n",
       "      <td>2</td>\n",
       "      <td>3</td>\n",
       "      <td>3</td>\n",
       "      <td>0</td>\n",
       "      <td>3</td>\n",
       "      <td>5</td>\n",
       "      <td>3</td>\n",
       "      <td>2</td>\n",
       "      <td>0</td>\n",
       "      <td>0.0</td>\n",
       "    </tr>\n",
       "    <tr>\n",
       "      <th>1</th>\n",
       "      <td>satisfied</td>\n",
       "      <td>Male</td>\n",
       "      <td>Loyal Customer</td>\n",
       "      <td>47</td>\n",
       "      <td>Personal Travel</td>\n",
       "      <td>Business</td>\n",
       "      <td>2464</td>\n",
       "      <td>0</td>\n",
       "      <td>0</td>\n",
       "      <td>0</td>\n",
       "      <td>...</td>\n",
       "      <td>2</td>\n",
       "      <td>3</td>\n",
       "      <td>4</td>\n",
       "      <td>4</td>\n",
       "      <td>4</td>\n",
       "      <td>2</td>\n",
       "      <td>3</td>\n",
       "      <td>2</td>\n",
       "      <td>310</td>\n",
       "      <td>305.0</td>\n",
       "    </tr>\n",
       "    <tr>\n",
       "      <th>2</th>\n",
       "      <td>satisfied</td>\n",
       "      <td>Female</td>\n",
       "      <td>Loyal Customer</td>\n",
       "      <td>15</td>\n",
       "      <td>Personal Travel</td>\n",
       "      <td>Eco</td>\n",
       "      <td>2138</td>\n",
       "      <td>0</td>\n",
       "      <td>0</td>\n",
       "      <td>0</td>\n",
       "      <td>...</td>\n",
       "      <td>2</td>\n",
       "      <td>2</td>\n",
       "      <td>3</td>\n",
       "      <td>3</td>\n",
       "      <td>4</td>\n",
       "      <td>4</td>\n",
       "      <td>4</td>\n",
       "      <td>2</td>\n",
       "      <td>0</td>\n",
       "      <td>0.0</td>\n",
       "    </tr>\n",
       "    <tr>\n",
       "      <th>3</th>\n",
       "      <td>satisfied</td>\n",
       "      <td>Female</td>\n",
       "      <td>Loyal Customer</td>\n",
       "      <td>60</td>\n",
       "      <td>Personal Travel</td>\n",
       "      <td>Eco</td>\n",
       "      <td>623</td>\n",
       "      <td>0</td>\n",
       "      <td>0</td>\n",
       "      <td>0</td>\n",
       "      <td>...</td>\n",
       "      <td>3</td>\n",
       "      <td>1</td>\n",
       "      <td>1</td>\n",
       "      <td>0</td>\n",
       "      <td>1</td>\n",
       "      <td>4</td>\n",
       "      <td>1</td>\n",
       "      <td>3</td>\n",
       "      <td>0</td>\n",
       "      <td>0.0</td>\n",
       "    </tr>\n",
       "    <tr>\n",
       "      <th>4</th>\n",
       "      <td>satisfied</td>\n",
       "      <td>Female</td>\n",
       "      <td>Loyal Customer</td>\n",
       "      <td>70</td>\n",
       "      <td>Personal Travel</td>\n",
       "      <td>Eco</td>\n",
       "      <td>354</td>\n",
       "      <td>0</td>\n",
       "      <td>0</td>\n",
       "      <td>0</td>\n",
       "      <td>...</td>\n",
       "      <td>4</td>\n",
       "      <td>2</td>\n",
       "      <td>2</td>\n",
       "      <td>0</td>\n",
       "      <td>2</td>\n",
       "      <td>4</td>\n",
       "      <td>2</td>\n",
       "      <td>5</td>\n",
       "      <td>0</td>\n",
       "      <td>0.0</td>\n",
       "    </tr>\n",
       "  </tbody>\n",
       "</table>\n",
       "<p>5 rows × 23 columns</p>\n",
       "</div>"
      ],
      "text/plain": [
       "  satisfaction  Gender   Customer Type  Age   Type of Travel     Class  \\\n",
       "0    satisfied  Female  Loyal Customer   65  Personal Travel       Eco   \n",
       "1    satisfied    Male  Loyal Customer   47  Personal Travel  Business   \n",
       "2    satisfied  Female  Loyal Customer   15  Personal Travel       Eco   \n",
       "3    satisfied  Female  Loyal Customer   60  Personal Travel       Eco   \n",
       "4    satisfied  Female  Loyal Customer   70  Personal Travel       Eco   \n",
       "\n",
       "   Flight Distance  Seat comfort  Departure/Arrival time convenient  \\\n",
       "0              265             0                                  0   \n",
       "1             2464             0                                  0   \n",
       "2             2138             0                                  0   \n",
       "3              623             0                                  0   \n",
       "4              354             0                                  0   \n",
       "\n",
       "   Food and drink  ...  Online support  Ease of Online booking  \\\n",
       "0               0  ...               2                       3   \n",
       "1               0  ...               2                       3   \n",
       "2               0  ...               2                       2   \n",
       "3               0  ...               3                       1   \n",
       "4               0  ...               4                       2   \n",
       "\n",
       "   On-board service  Leg room service  Baggage handling  Checkin service  \\\n",
       "0                 3                 0                 3                5   \n",
       "1                 4                 4                 4                2   \n",
       "2                 3                 3                 4                4   \n",
       "3                 1                 0                 1                4   \n",
       "4                 2                 0                 2                4   \n",
       "\n",
       "   Cleanliness  Online boarding  Departure Delay in Minutes  \\\n",
       "0            3                2                           0   \n",
       "1            3                2                         310   \n",
       "2            4                2                           0   \n",
       "3            1                3                           0   \n",
       "4            2                5                           0   \n",
       "\n",
       "   Arrival Delay in Minutes  \n",
       "0                       0.0  \n",
       "1                     305.0  \n",
       "2                       0.0  \n",
       "3                       0.0  \n",
       "4                       0.0  \n",
       "\n",
       "[5 rows x 23 columns]"
      ]
     },
     "execution_count": 14,
     "metadata": {},
     "output_type": "execute_result"
    }
   ],
   "source": [
    "# Observing the data\n",
    "\n",
    "data.head()"
   ]
  },
  {
   "cell_type": "code",
   "execution_count": 15,
   "id": "19e3bc2f",
   "metadata": {},
   "outputs": [
    {
     "data": {
      "text/html": [
       "<div>\n",
       "<style scoped>\n",
       "    .dataframe tbody tr th:only-of-type {\n",
       "        vertical-align: middle;\n",
       "    }\n",
       "\n",
       "    .dataframe tbody tr th {\n",
       "        vertical-align: top;\n",
       "    }\n",
       "\n",
       "    .dataframe thead th {\n",
       "        text-align: right;\n",
       "    }\n",
       "</style>\n",
       "<table border=\"1\" class=\"dataframe\">\n",
       "  <thead>\n",
       "    <tr style=\"text-align: right;\">\n",
       "      <th></th>\n",
       "      <th>Column Name</th>\n",
       "      <th>Description</th>\n",
       "    </tr>\n",
       "  </thead>\n",
       "  <tbody>\n",
       "    <tr>\n",
       "      <th>0</th>\n",
       "      <td>satisfaction</td>\n",
       "      <td>Indicates the level of customer satisfaction</td>\n",
       "    </tr>\n",
       "    <tr>\n",
       "      <th>1</th>\n",
       "      <td>Gender</td>\n",
       "      <td>Represents the gender of the customer</td>\n",
       "    </tr>\n",
       "    <tr>\n",
       "      <th>2</th>\n",
       "      <td>Customer Type</td>\n",
       "      <td>Specifies whether the customer is a loyal or d...</td>\n",
       "    </tr>\n",
       "    <tr>\n",
       "      <th>3</th>\n",
       "      <td>Age</td>\n",
       "      <td>Represents the age of the customer</td>\n",
       "    </tr>\n",
       "    <tr>\n",
       "      <th>4</th>\n",
       "      <td>Type of Travel</td>\n",
       "      <td>Indicates the purpose of the travel, such as b...</td>\n",
       "    </tr>\n",
       "    <tr>\n",
       "      <th>5</th>\n",
       "      <td>Class</td>\n",
       "      <td>Specifies the class of the flight, such as Bus...</td>\n",
       "    </tr>\n",
       "    <tr>\n",
       "      <th>6</th>\n",
       "      <td>Flight Distance</td>\n",
       "      <td>Represents the distance of the flight in miles</td>\n",
       "    </tr>\n",
       "    <tr>\n",
       "      <th>7</th>\n",
       "      <td>Seat comfort</td>\n",
       "      <td>Indicates the level of comfort experienced wit...</td>\n",
       "    </tr>\n",
       "    <tr>\n",
       "      <th>8</th>\n",
       "      <td>Departure/Arrival time convenient</td>\n",
       "      <td>Represents the convenience of departure and ar...</td>\n",
       "    </tr>\n",
       "    <tr>\n",
       "      <th>9</th>\n",
       "      <td>Food and drink</td>\n",
       "      <td>Indicates the satisfaction level with the food...</td>\n",
       "    </tr>\n",
       "    <tr>\n",
       "      <th>10</th>\n",
       "      <td>Gate location</td>\n",
       "      <td>Represents the satisfaction level with the loc...</td>\n",
       "    </tr>\n",
       "    <tr>\n",
       "      <th>11</th>\n",
       "      <td>Inflight wifi service</td>\n",
       "      <td>Indicates the satisfaction level with the in-f...</td>\n",
       "    </tr>\n",
       "    <tr>\n",
       "      <th>12</th>\n",
       "      <td>Inflight entertainment</td>\n",
       "      <td>Represents the satisfaction level with the in-...</td>\n",
       "    </tr>\n",
       "    <tr>\n",
       "      <th>13</th>\n",
       "      <td>Online support</td>\n",
       "      <td>Indicates the satisfaction level with the onli...</td>\n",
       "    </tr>\n",
       "    <tr>\n",
       "      <th>14</th>\n",
       "      <td>Ease of Online booking</td>\n",
       "      <td>Represents the ease of booking flights online</td>\n",
       "    </tr>\n",
       "    <tr>\n",
       "      <th>15</th>\n",
       "      <td>On-board service</td>\n",
       "      <td>Indicates the satisfaction level with the on-b...</td>\n",
       "    </tr>\n",
       "    <tr>\n",
       "      <th>16</th>\n",
       "      <td>Leg room service</td>\n",
       "      <td>Represents the satisfaction level with the leg...</td>\n",
       "    </tr>\n",
       "    <tr>\n",
       "      <th>17</th>\n",
       "      <td>Baggage handling</td>\n",
       "      <td>Indicates the satisfaction level with the bagg...</td>\n",
       "    </tr>\n",
       "    <tr>\n",
       "      <th>18</th>\n",
       "      <td>Check-in service</td>\n",
       "      <td>Represents the satisfaction level with the che...</td>\n",
       "    </tr>\n",
       "    <tr>\n",
       "      <th>19</th>\n",
       "      <td>Cleanliness</td>\n",
       "      <td>Indicates the satisfaction level with the clea...</td>\n",
       "    </tr>\n",
       "    <tr>\n",
       "      <th>20</th>\n",
       "      <td>Online boarding</td>\n",
       "      <td>Represents the satisfaction level with the onl...</td>\n",
       "    </tr>\n",
       "    <tr>\n",
       "      <th>21</th>\n",
       "      <td>Departure Delay in Minutes</td>\n",
       "      <td>Represents the number of minutes of departure ...</td>\n",
       "    </tr>\n",
       "    <tr>\n",
       "      <th>22</th>\n",
       "      <td>Arrival Delay in Minutes</td>\n",
       "      <td>Represents the number of minutes of arrival delay</td>\n",
       "    </tr>\n",
       "  </tbody>\n",
       "</table>\n",
       "</div>"
      ],
      "text/plain": [
       "                          Column Name  \\\n",
       "0                        satisfaction   \n",
       "1                              Gender   \n",
       "2                       Customer Type   \n",
       "3                                 Age   \n",
       "4                      Type of Travel   \n",
       "5                               Class   \n",
       "6                     Flight Distance   \n",
       "7                        Seat comfort   \n",
       "8   Departure/Arrival time convenient   \n",
       "9                      Food and drink   \n",
       "10                      Gate location   \n",
       "11              Inflight wifi service   \n",
       "12             Inflight entertainment   \n",
       "13                     Online support   \n",
       "14             Ease of Online booking   \n",
       "15                   On-board service   \n",
       "16                   Leg room service   \n",
       "17                   Baggage handling   \n",
       "18                   Check-in service   \n",
       "19                        Cleanliness   \n",
       "20                    Online boarding   \n",
       "21         Departure Delay in Minutes   \n",
       "22           Arrival Delay in Minutes   \n",
       "\n",
       "                                          Description  \n",
       "0        Indicates the level of customer satisfaction  \n",
       "1               Represents the gender of the customer  \n",
       "2   Specifies whether the customer is a loyal or d...  \n",
       "3                  Represents the age of the customer  \n",
       "4   Indicates the purpose of the travel, such as b...  \n",
       "5   Specifies the class of the flight, such as Bus...  \n",
       "6      Represents the distance of the flight in miles  \n",
       "7   Indicates the level of comfort experienced wit...  \n",
       "8   Represents the convenience of departure and ar...  \n",
       "9   Indicates the satisfaction level with the food...  \n",
       "10  Represents the satisfaction level with the loc...  \n",
       "11  Indicates the satisfaction level with the in-f...  \n",
       "12  Represents the satisfaction level with the in-...  \n",
       "13  Indicates the satisfaction level with the onli...  \n",
       "14      Represents the ease of booking flights online  \n",
       "15  Indicates the satisfaction level with the on-b...  \n",
       "16  Represents the satisfaction level with the leg...  \n",
       "17  Indicates the satisfaction level with the bagg...  \n",
       "18  Represents the satisfaction level with the che...  \n",
       "19  Indicates the satisfaction level with the clea...  \n",
       "20  Represents the satisfaction level with the onl...  \n",
       "21  Represents the number of minutes of departure ...  \n",
       "22  Represents the number of minutes of arrival delay  "
      ]
     },
     "execution_count": 15,
     "metadata": {},
     "output_type": "execute_result"
    }
   ],
   "source": [
    "# Data Dictionary\n",
    "\n",
    "data = {\n",
    "    'Column Name': [\n",
    "        'satisfaction',\n",
    "        'Gender',\n",
    "        'Customer Type',\n",
    "        'Age',\n",
    "        'Type of Travel',\n",
    "        'Class',\n",
    "        'Flight Distance',\n",
    "        'Seat comfort',\n",
    "        'Departure/Arrival time convenient',\n",
    "        'Food and drink',\n",
    "        'Gate location',\n",
    "        'Inflight wifi service',\n",
    "        'Inflight entertainment',\n",
    "        'Online support',\n",
    "        'Ease of Online booking',\n",
    "        'On-board service',\n",
    "        'Leg room service',\n",
    "        'Baggage handling',\n",
    "        'Check-in service',\n",
    "        'Cleanliness',\n",
    "        'Online boarding',\n",
    "        'Departure Delay in Minutes',\n",
    "        'Arrival Delay in Minutes'\n",
    "    ],\n",
    "    'Description': [\n",
    "        'Indicates the level of customer satisfaction',\n",
    "        'Represents the gender of the customer',\n",
    "        'Specifies whether the customer is a loyal or disloyal customer',\n",
    "        'Represents the age of the customer',\n",
    "        'Indicates the purpose of the travel, such as business or personal',\n",
    "        'Specifies the class of the flight, such as Business, Eco, or Eco Plus',\n",
    "        'Represents the distance of the flight in miles',\n",
    "        'Indicates the level of comfort experienced with the seating arrangements',\n",
    "        'Represents the convenience of departure and arrival times',\n",
    "        'Indicates the satisfaction level with the food and drink options',\n",
    "        'Represents the satisfaction level with the location of the boarding gate',\n",
    "        'Indicates the satisfaction level with the in-flight wifi service',\n",
    "        'Represents the satisfaction level with the in-flight entertainment options',\n",
    "        'Indicates the satisfaction level with the online customer support',\n",
    "        'Represents the ease of booking flights online',\n",
    "        'Indicates the satisfaction level with the on-board services provided',\n",
    "        'Represents the satisfaction level with the legroom space',\n",
    "        'Indicates the satisfaction level with the baggage handling process',\n",
    "        'Represents the satisfaction level with the check-in process',\n",
    "        'Indicates the satisfaction level with the cleanliness of the flight',\n",
    "        'Represents the satisfaction level with the online boarding process',\n",
    "        'Represents the number of minutes of departure delay',\n",
    "        'Represents the number of minutes of arrival delay'\n",
    "    ]\n",
    "}\n",
    "\n",
    "df = pd.DataFrame(data)\n",
    "df\n",
    "\n"
   ]
  },
  {
   "cell_type": "markdown",
   "id": "1179d6dc",
   "metadata": {},
   "source": [
    "## Data Analysis"
   ]
  },
  {
   "cell_type": "code",
   "execution_count": 24,
   "id": "cdee44f4",
   "metadata": {},
   "outputs": [
    {
     "name": "stdout",
     "output_type": "stream",
     "text": [
      "Requirement already satisfied: pandas in c:\\users\\lilian\\.conda\\envs\\analisedados\\lib\\site-packages (1.5.3)\n",
      "Collecting pandas\n",
      "  Downloading pandas-2.0.2-cp310-cp310-win_amd64.whl (10.7 MB)\n",
      "     ---------------------------------------- 0.0/10.7 MB ? eta -:--:--\n",
      "      --------------------------------------- 0.2/10.7 MB 4.1 MB/s eta 0:00:03\n",
      "     - -------------------------------------- 0.4/10.7 MB 5.1 MB/s eta 0:00:03\n",
      "     -- ------------------------------------- 0.6/10.7 MB 4.5 MB/s eta 0:00:03\n",
      "     --- ------------------------------------ 0.8/10.7 MB 4.6 MB/s eta 0:00:03\n",
      "     ---- ----------------------------------- 1.1/10.7 MB 5.0 MB/s eta 0:00:02\n",
      "     ---- ----------------------------------- 1.3/10.7 MB 4.9 MB/s eta 0:00:02\n",
      "     ----- ---------------------------------- 1.6/10.7 MB 5.0 MB/s eta 0:00:02\n",
      "     ------ --------------------------------- 1.8/10.7 MB 4.9 MB/s eta 0:00:02\n",
      "     -------- ------------------------------- 2.1/10.7 MB 5.2 MB/s eta 0:00:02\n",
      "     --------- ------------------------------ 2.4/10.7 MB 5.4 MB/s eta 0:00:02\n",
      "     ---------- ----------------------------- 2.8/10.7 MB 5.5 MB/s eta 0:00:02\n",
      "     ----------- ---------------------------- 3.1/10.7 MB 5.6 MB/s eta 0:00:02\n",
      "     ------------ --------------------------- 3.4/10.7 MB 5.7 MB/s eta 0:00:02\n",
      "     -------------- ------------------------- 3.8/10.7 MB 5.8 MB/s eta 0:00:02\n",
      "     --------------- ------------------------ 4.0/10.7 MB 5.8 MB/s eta 0:00:02\n",
      "     ---------------- ----------------------- 4.3/10.7 MB 5.8 MB/s eta 0:00:02\n",
      "     ----------------- ---------------------- 4.6/10.7 MB 5.8 MB/s eta 0:00:02\n",
      "     ------------------ --------------------- 4.9/10.7 MB 5.8 MB/s eta 0:00:01\n",
      "     ------------------- -------------------- 5.3/10.7 MB 5.9 MB/s eta 0:00:01\n",
      "     --------------------- ------------------ 5.6/10.7 MB 6.0 MB/s eta 0:00:01\n",
      "     ---------------------- ----------------- 5.9/10.7 MB 6.0 MB/s eta 0:00:01\n",
      "     ----------------------- ---------------- 6.3/10.7 MB 6.1 MB/s eta 0:00:01\n",
      "     ------------------------ --------------- 6.6/10.7 MB 6.1 MB/s eta 0:00:01\n",
      "     ------------------------- -------------- 6.9/10.7 MB 6.1 MB/s eta 0:00:01\n",
      "     --------------------------- ------------ 7.2/10.7 MB 6.2 MB/s eta 0:00:01\n",
      "     ---------------------------- ----------- 7.5/10.7 MB 6.2 MB/s eta 0:00:01\n",
      "     ----------------------------- ---------- 7.8/10.7 MB 6.1 MB/s eta 0:00:01\n",
      "     ------------------------------ --------- 8.1/10.7 MB 6.2 MB/s eta 0:00:01\n",
      "     ------------------------------- -------- 8.4/10.7 MB 6.1 MB/s eta 0:00:01\n",
      "     -------------------------------- ------- 8.7/10.7 MB 6.2 MB/s eta 0:00:01\n",
      "     --------------------------------- ------ 9.0/10.7 MB 6.2 MB/s eta 0:00:01\n",
      "     ---------------------------------- ----- 9.3/10.7 MB 6.2 MB/s eta 0:00:01\n",
      "     ------------------------------------ --- 9.6/10.7 MB 6.2 MB/s eta 0:00:01\n",
      "     ------------------------------------- -- 9.9/10.7 MB 6.2 MB/s eta 0:00:01\n",
      "     -------------------------------------- - 10.2/10.7 MB 6.2 MB/s eta 0:00:01\n",
      "     ---------------------------------------  10.5/10.7 MB 6.2 MB/s eta 0:00:01\n",
      "     ---------------------------------------  10.6/10.7 MB 6.3 MB/s eta 0:00:01\n",
      "     ---------------------------------------- 10.7/10.7 MB 6.1 MB/s eta 0:00:00\n",
      "Requirement already satisfied: pandas-profiling in c:\\users\\lilian\\.conda\\envs\\analisedados\\lib\\site-packages (3.6.6)\n",
      "Requirement already satisfied: python-dateutil>=2.8.2 in c:\\users\\lilian\\.conda\\envs\\analisedados\\lib\\site-packages (from pandas) (2.8.2)\n",
      "Requirement already satisfied: tzdata>=2022.1 in c:\\users\\lilian\\.conda\\envs\\analisedados\\lib\\site-packages (from pandas) (2023.3)\n",
      "Requirement already satisfied: pytz>=2020.1 in c:\\users\\lilian\\.conda\\envs\\analisedados\\lib\\site-packages (from pandas) (2023.3)\n",
      "Requirement already satisfied: numpy>=1.21.0 in c:\\users\\lilian\\.conda\\envs\\analisedados\\lib\\site-packages (from pandas) (1.24.3)\n",
      "Requirement already satisfied: ydata-profiling in c:\\users\\lilian\\.conda\\envs\\analisedados\\lib\\site-packages (from pandas-profiling) (4.2.0)\n",
      "Note: you may need to restart the kernel to use updated packages.\n"
     ]
    },
    {
     "name": "stderr",
     "output_type": "stream",
     "text": [
      "ERROR: Could not install packages due to an OSError: [Errno 2] No such file or directory: 'c:\\\\users\\\\lilian\\\\.conda\\\\envs\\\\analisedados\\\\lib\\\\site-packages\\\\numpy-1.24.3.dist-info\\\\METADATA'\n",
      "\n"
     ]
    }
   ],
   "source": [
    "pip install --upgrade pandas pandas-profiling\n"
   ]
  },
  {
   "cell_type": "code",
   "execution_count": 23,
   "id": "cab6c9b9",
   "metadata": {},
   "outputs": [
    {
     "ename": "TypeError",
     "evalue": "type of argument \"df\" must be one of (pandas.core.frame.DataFrame, NoneType); got dict instead",
     "output_type": "error",
     "traceback": [
      "\u001b[1;31m---------------------------------------------------------------------------\u001b[0m",
      "\u001b[1;31mTypeError\u001b[0m                                 Traceback (most recent call last)",
      "Cell \u001b[1;32mIn[23], line 1\u001b[0m\n\u001b[1;32m----> 1\u001b[0m profile \u001b[38;5;241m=\u001b[39m \u001b[43mpandas_profiling\u001b[49m\u001b[38;5;241;43m.\u001b[39;49m\u001b[43mProfileReport\u001b[49m\u001b[43m(\u001b[49m\u001b[43mdata\u001b[49m\u001b[43m)\u001b[49m\n\u001b[0;32m      2\u001b[0m profile\u001b[38;5;241m.\u001b[39mto_file(\u001b[38;5;124m\"\u001b[39m\u001b[38;5;124mreport.html\u001b[39m\u001b[38;5;124m\"\u001b[39m)\n",
      "File \u001b[1;32m~\\.conda\\envs\\analisedados\\lib\\site-packages\\typeguard\\__init__.py:1032\u001b[0m, in \u001b[0;36mtypechecked.<locals>.wrapper\u001b[1;34m(*args, **kwargs)\u001b[0m\n\u001b[0;32m   1030\u001b[0m \u001b[38;5;28;01mdef\u001b[39;00m \u001b[38;5;21mwrapper\u001b[39m(\u001b[38;5;241m*\u001b[39margs, \u001b[38;5;241m*\u001b[39m\u001b[38;5;241m*\u001b[39mkwargs):\n\u001b[0;32m   1031\u001b[0m     memo \u001b[38;5;241m=\u001b[39m _CallMemo(python_func, _localns, args\u001b[38;5;241m=\u001b[39margs, kwargs\u001b[38;5;241m=\u001b[39mkwargs)\n\u001b[1;32m-> 1032\u001b[0m     \u001b[43mcheck_argument_types\u001b[49m\u001b[43m(\u001b[49m\u001b[43mmemo\u001b[49m\u001b[43m)\u001b[49m\n\u001b[0;32m   1033\u001b[0m     retval \u001b[38;5;241m=\u001b[39m func(\u001b[38;5;241m*\u001b[39margs, \u001b[38;5;241m*\u001b[39m\u001b[38;5;241m*\u001b[39mkwargs)\n\u001b[0;32m   1034\u001b[0m     \u001b[38;5;28;01mtry\u001b[39;00m:\n",
      "File \u001b[1;32m~\\.conda\\envs\\analisedados\\lib\\site-packages\\typeguard\\__init__.py:875\u001b[0m, in \u001b[0;36mcheck_argument_types\u001b[1;34m(memo)\u001b[0m\n\u001b[0;32m    873\u001b[0m             check_type(description, value, expected_type, memo)\n\u001b[0;32m    874\u001b[0m         \u001b[38;5;28;01mexcept\u001b[39;00m \u001b[38;5;167;01mTypeError\u001b[39;00m \u001b[38;5;28;01mas\u001b[39;00m exc:  \u001b[38;5;66;03m# suppress unnecessarily long tracebacks\u001b[39;00m\n\u001b[1;32m--> 875\u001b[0m             \u001b[38;5;28;01mraise\u001b[39;00m \u001b[38;5;167;01mTypeError\u001b[39;00m(\u001b[38;5;241m*\u001b[39mexc\u001b[38;5;241m.\u001b[39margs) \u001b[38;5;28;01mfrom\u001b[39;00m \u001b[38;5;28;01mNone\u001b[39;00m\n\u001b[0;32m    877\u001b[0m \u001b[38;5;28;01mreturn\u001b[39;00m \u001b[38;5;28;01mTrue\u001b[39;00m\n",
      "\u001b[1;31mTypeError\u001b[0m: type of argument \"df\" must be one of (pandas.core.frame.DataFrame, NoneType); got dict instead"
     ]
    }
   ],
   "source": [
    "profile = pandas_profiling.ProfileReport(data)\n",
    "profile.to_file(\"report.html\")"
   ]
  },
  {
   "cell_type": "code",
   "execution_count": 19,
   "id": "a4ee1c58",
   "metadata": {
    "scrolled": true
   },
   "outputs": [
    {
     "ename": "AttributeError",
     "evalue": "'dict' object has no attribute 'shape'",
     "output_type": "error",
     "traceback": [
      "\u001b[1;31m---------------------------------------------------------------------------\u001b[0m",
      "\u001b[1;31mAttributeError\u001b[0m                            Traceback (most recent call last)",
      "Cell \u001b[1;32mIn[19], line 2\u001b[0m\n\u001b[0;32m      1\u001b[0m \u001b[38;5;66;03m# Checking the number of rows and columns\u001b[39;00m\n\u001b[1;32m----> 2\u001b[0m \u001b[43mdata\u001b[49m\u001b[38;5;241;43m.\u001b[39;49m\u001b[43mshape\u001b[49m\n",
      "\u001b[1;31mAttributeError\u001b[0m: 'dict' object has no attribute 'shape'"
     ]
    }
   ],
   "source": [
    "# Checking the number of rows and columns\n",
    "data.shape"
   ]
  },
  {
   "cell_type": "code",
   "execution_count": 7,
   "id": "aad9288e",
   "metadata": {
    "scrolled": true
   },
   "outputs": [
    {
     "ename": "AttributeError",
     "evalue": "'dict' object has no attribute 'info'",
     "output_type": "error",
     "traceback": [
      "\u001b[1;31m---------------------------------------------------------------------------\u001b[0m",
      "\u001b[1;31mAttributeError\u001b[0m                            Traceback (most recent call last)",
      "Cell \u001b[1;32mIn[7], line 2\u001b[0m\n\u001b[0;32m      1\u001b[0m \u001b[38;5;66;03m# Checking the type of the columns\u001b[39;00m\n\u001b[1;32m----> 2\u001b[0m \u001b[43mdata\u001b[49m\u001b[38;5;241;43m.\u001b[39;49m\u001b[43minfo\u001b[49m()\n",
      "\u001b[1;31mAttributeError\u001b[0m: 'dict' object has no attribute 'info'"
     ]
    }
   ],
   "source": [
    "# Checking the type of the columns\n",
    "data.info()"
   ]
  },
  {
   "cell_type": "code",
   "execution_count": 8,
   "id": "6f6775dc",
   "metadata": {},
   "outputs": [
    {
     "ename": "AttributeError",
     "evalue": "'dict' object has no attribute 'isnull'",
     "output_type": "error",
     "traceback": [
      "\u001b[1;31m---------------------------------------------------------------------------\u001b[0m",
      "\u001b[1;31mAttributeError\u001b[0m                            Traceback (most recent call last)",
      "Cell \u001b[1;32mIn[8], line 2\u001b[0m\n\u001b[0;32m      1\u001b[0m \u001b[38;5;66;03m# Chekcing null data\u001b[39;00m\n\u001b[1;32m----> 2\u001b[0m \u001b[43mdata\u001b[49m\u001b[38;5;241;43m.\u001b[39;49m\u001b[43misnull\u001b[49m()\u001b[38;5;241m.\u001b[39msum()\n",
      "\u001b[1;31mAttributeError\u001b[0m: 'dict' object has no attribute 'isnull'"
     ]
    }
   ],
   "source": [
    "# Chekcing null data\n",
    "data.isnull().sum()"
   ]
  },
  {
   "cell_type": "markdown",
   "id": "d5dcaf0e",
   "metadata": {},
   "source": [
    "### Analysis of Entries by Column"
   ]
  },
  {
   "cell_type": "code",
   "execution_count": null,
   "id": "69e39d93",
   "metadata": {},
   "outputs": [],
   "source": [
    "# imputing mean for missing values \n",
    "\n",
    "data['Arrival Delay in Minutes'].fillna((round(data['Arrival Delay in Minutes'].mean(),0)), inplace=True)"
   ]
  },
  {
   "cell_type": "code",
   "execution_count": null,
   "id": "31ce4c20",
   "metadata": {
    "scrolled": false
   },
   "outputs": [],
   "source": [
    "# Analysing customer type\n",
    "\n",
    "count_customer_type = data['Customer Type'].value_counts()\n",
    "count_customer_type"
   ]
  },
  {
   "cell_type": "code",
   "execution_count": null,
   "id": "56ed6281",
   "metadata": {},
   "outputs": [],
   "source": [
    "# Analysing type of travel\n",
    "\n",
    "count_travel_type = data['Type of Travel'].value_counts()\n",
    "count_travel_type"
   ]
  },
  {
   "cell_type": "code",
   "execution_count": null,
   "id": "445fb4ef",
   "metadata": {
    "scrolled": true
   },
   "outputs": [],
   "source": [
    "# Analysing class\n",
    "\n",
    "count_class = data['Class'].value_counts()\n",
    "count_class"
   ]
  },
  {
   "cell_type": "markdown",
   "id": "bab13cc7",
   "metadata": {},
   "source": [
    "### Data transformation to binary"
   ]
  },
  {
   "cell_type": "code",
   "execution_count": null,
   "id": "f571acb8",
   "metadata": {},
   "outputs": [],
   "source": [
    "# Class needs to be int (0=Business; 1=Eco, 2=Eco Plus)\n",
    "data.loc[data['Class'] == 'Business', 'Class'] = '0'\n",
    "data.loc[data['Class'] == 'Eco', 'Class'] = '1'\n",
    "data.loc[data['Class'] == 'Eco Plus', 'Class'] = '2'"
   ]
  },
  {
   "cell_type": "code",
   "execution_count": null,
   "id": "21610fb8",
   "metadata": {},
   "outputs": [],
   "source": [
    "# Satisfaction needs to be binary (0=dissatisfied; 1=satisfied)\n",
    "data.loc[data['satisfaction'] == 'satisfied', 'satisfaction'] = '1'\n",
    "data.loc[data['satisfaction'] == 'dissatisfied', 'satisfaction'] = '0'"
   ]
  },
  {
   "cell_type": "code",
   "execution_count": null,
   "id": "26b08046",
   "metadata": {},
   "outputs": [],
   "source": [
    "# Gender needs to be binary (0=female; 1=male)\n",
    "data.loc[data['Gender'] == 'Female', 'Gender'] = '0'\n",
    "data.loc[data['Gender'] == 'Male', 'Gender'] = '1'"
   ]
  },
  {
   "cell_type": "code",
   "execution_count": null,
   "id": "59bade13",
   "metadata": {},
   "outputs": [],
   "source": [
    "# Customer Type needs to be binary (0=Loyal; 1=Disloyal)\n",
    "data.loc[data['Customer Type'] == 'Loyal Customer', 'Customer Type'] = '0'\n",
    "data.loc[data['Customer Type'] == 'disloyal Customer', 'Customer Type'] = '1'"
   ]
  },
  {
   "cell_type": "code",
   "execution_count": null,
   "id": "a023e215",
   "metadata": {},
   "outputs": [],
   "source": [
    "# Travel Type needs to be binary (0=Business travel; 1=Personal Travel)\n",
    "data.loc[data['Type of Travel'] == 'Business travel', 'Type of Travel'] = '0'\n",
    "data.loc[data['Type of Travel'] == 'Personal Travel', 'Type of Travel'] = '1'\n",
    "data['Type of Travel'].value_counts()"
   ]
  },
  {
   "cell_type": "markdown",
   "id": "907aa489",
   "metadata": {},
   "source": [
    "### Descriptive Statistics"
   ]
  },
  {
   "cell_type": "code",
   "execution_count": null,
   "id": "671e7e2f",
   "metadata": {
    "scrolled": true
   },
   "outputs": [],
   "source": [
    "# Descriptive Analysis \n",
    "data.describe().round(2)"
   ]
  },
  {
   "cell_type": "code",
   "execution_count": null,
   "id": "63a5bbe7",
   "metadata": {},
   "outputs": [],
   "source": [
    "# Analyzing correlations between variables\n",
    "data_corr = data.corr().round(4)\n",
    "data_corr"
   ]
  },
  {
   "cell_type": "code",
   "execution_count": null,
   "id": "e515fb50",
   "metadata": {
    "scrolled": true
   },
   "outputs": [],
   "source": [
    "# Data Correlation satisfaction x variables\n",
    "data_corr = data.corr().round(4)\n",
    "data_corr = data_corr.iloc[:, 0].sort_values(ascending=False)\n",
    "data_corr"
   ]
  },
  {
   "cell_type": "markdown",
   "id": "f13d1276",
   "metadata": {},
   "source": [
    "## Interpretation of Pearson's Correlation Coefficient\n",
    "\n",
    "Plus or minus 0.9 indicates a very strong correlation.\n",
    "\n",
    "0.7 to 0.9 positive or negative indicates a strong correlation.\n",
    "\n",
    "0.5 to 0.7 positive or negative indicates a **moderate correlation**.\n",
    "\n",
    "* Positive\n",
    "        \n",
    "        Inflight entertainment               0.5235\n",
    "\n",
    "\n",
    "0.3 to 0.5 positive or negative indicates a **weak correlation**.\n",
    "\n",
    "* Positive\n",
    "        \n",
    "        Ease of Online booking               0.4318\n",
    "        Online support                       0.3901\n",
    "        On-board service                     0.3520\n",
    "        Online boarding                      0.3381\n",
    "        Leg room service                     0.3049\n",
    "\n",
    "* Negative\n",
    "\n",
    "        Customer Type                       -0.2926\n",
    "        \n",
    "0 to 0.3 positive or negative indicates a negligible correlation."
   ]
  },
  {
   "cell_type": "code",
   "execution_count": null,
   "id": "f6cbf9fb",
   "metadata": {},
   "outputs": [],
   "source": [
    "# Plotting histogram\n",
    "sns.set(font_scale=1.0, rc={'figure.figsize': (15,15)})\n",
    "axis = data.hist(bins=20)"
   ]
  },
  {
   "cell_type": "markdown",
   "id": "78ab17bb",
   "metadata": {},
   "source": [
    "## Boxplot of the variables with moderate and weak correlation"
   ]
  },
  {
   "cell_type": "code",
   "execution_count": null,
   "id": "448a6e65",
   "metadata": {},
   "outputs": [],
   "source": [
    "plt.figure(figsize=(10,5))\n",
    "\n",
    "ax = sns.boxplot(data=data, x='satisfaction', y='Inflight entertainment')\n",
    "ax.set_title('Boxplot Inflight Entertainment', fontsize=20)"
   ]
  },
  {
   "cell_type": "code",
   "execution_count": null,
   "id": "e0b6820d",
   "metadata": {},
   "outputs": [],
   "source": [
    "plt.figure(figsize=(10,5))\n",
    "\n",
    "ax = sns.boxplot(data=data, x='satisfaction', y='Ease of Online booking')\n",
    "ax.set_title('Boxplot Ease of Online booking', fontsize=20)"
   ]
  },
  {
   "cell_type": "code",
   "execution_count": null,
   "id": "2492d1fb",
   "metadata": {},
   "outputs": [],
   "source": [
    "plt.figure(figsize=(10,5))\n",
    "\n",
    "ax = sns.boxplot(data=data, x='satisfaction', y='Checkin service')\n",
    "ax.set_title('Boxplot Checkin Service', fontsize=20)"
   ]
  },
  {
   "cell_type": "code",
   "execution_count": null,
   "id": "2120fbb6",
   "metadata": {},
   "outputs": [],
   "source": [
    "plt.figure(figsize=(10,5))\n",
    "\n",
    "ax = sns.boxplot(data=data, x='satisfaction', y='On-board service')\n",
    "ax.set_title('Boxplot Board Service', fontsize=20)"
   ]
  },
  {
   "cell_type": "markdown",
   "id": "1d83fe2b",
   "metadata": {},
   "source": [
    "## Saving dataset after processing"
   ]
  },
  {
   "cell_type": "code",
   "execution_count": null,
   "id": "34618c62",
   "metadata": {},
   "outputs": [],
   "source": [
    "data.to_csv('data/Invistico_Airline_treated.csv')"
   ]
  }
 ],
 "metadata": {
  "kernelspec": {
   "display_name": "Python 3 (ipykernel)",
   "language": "python",
   "name": "python3"
  },
  "language_info": {
   "codemirror_mode": {
    "name": "ipython",
    "version": 3
   },
   "file_extension": ".py",
   "mimetype": "text/x-python",
   "name": "python",
   "nbconvert_exporter": "python",
   "pygments_lexer": "ipython3",
   "version": "3.10.11"
  }
 },
 "nbformat": 4,
 "nbformat_minor": 5
}
