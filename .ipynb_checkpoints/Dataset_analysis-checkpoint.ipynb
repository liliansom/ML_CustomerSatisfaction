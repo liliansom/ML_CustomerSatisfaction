{
 "cells": [
  {
   "cell_type": "markdown",
   "id": "6bba7bf9",
   "metadata": {},
   "source": [
    "## Introduction"
   ]
  },
  {
   "cell_type": "markdown",
   "id": "9f68909f",
   "metadata": {},
   "source": [
    "We can classify customer satisfaction as a performance indicator that shows how well a company is able to meet consumer expectations before, during, and after a purchase.\n",
    "\n",
    "When it is high, this metric signals compatibility between what the company offers and what the customer needs. It is a good gauge to understand if the provided service and created experience make sense for the target audience.\n",
    "\n",
    "On the other hand, if customer satisfaction is low, it means that the consumer's expectations were not met – whether it's related to the service, product, or purchased service. And this can greatly harm your brand reputation."
   ]
  },
  {
   "cell_type": "markdown",
   "id": "d71200e1",
   "metadata": {},
   "source": [
    "In this project, the customer satisfaction dataset extracted from Kaggle will be analyzed, and the following phases will be implemented: <br>\n",
    "\n",
    "    1) Data import, \n",
    "    2) Data analysis, \n",
    "    3) Data transformation, \n",
    "    4) Loading of processed data, \n",
    "    5) Machine learning model training, \n",
    "    6) Model testing, and\n",
    "    7) Model implementation."
   ]
  },
  {
   "cell_type": "markdown",
   "id": "2d8da08c",
   "metadata": {},
   "source": [
    "## Import"
   ]
  },
  {
   "cell_type": "code",
   "execution_count": 1,
   "id": "b9e7855f",
   "metadata": {},
   "outputs": [],
   "source": [
    "# Importing libraries\n",
    "\n",
    "import pandas as pd\n",
    "import matplotlib.pyplot as plt\n",
    "import seaborn as sns\n",
    "from ydata_profiling import ProfileReport\n",
    "\n",
    "%matplotlib inline"
   ]
  },
  {
   "cell_type": "code",
   "execution_count": 2,
   "id": "df2e247f",
   "metadata": {},
   "outputs": [],
   "source": [
    "# Importing dataset\n",
    "\n",
    "url = 'https://raw.githubusercontent.com/liliansom/ML_CustomerSatisfaction/main/data/Invistico_Airline.csv'\n",
    "data = pd.read_csv(url)\n",
    "\n"
   ]
  },
  {
   "cell_type": "code",
   "execution_count": 3,
   "id": "f6a0c299",
   "metadata": {},
   "outputs": [],
   "source": [
    "# Observing the data\n",
    "\n",
    "data.head()"
   ]
  },
  {
   "cell_type": "code",
   "execution_count": 4,
   "id": "19e3bc2f",
   "metadata": {},
   "outputs": [],
   "source": [
    "# Data Dictionary\n",
    "\n",
    "columns = {\n",
    "    'Column Name': [\n",
    "        'satisfaction',\n",
    "        'Gender',\n",
    "        'Customer Type',\n",
    "        'Age',\n",
    "        'Type of Travel',\n",
    "        'Class',\n",
    "        'Flight Distance',\n",
    "        'Seat comfort',\n",
    "        'Departure/Arrival time convenient',\n",
    "        'Food and drink',\n",
    "        'Gate location',\n",
    "        'Inflight wifi service',\n",
    "        'Inflight entertainment',\n",
    "        'Online support',\n",
    "        'Ease of Online booking',\n",
    "        'On-board service',\n",
    "        'Leg room service',\n",
    "        'Baggage handling',\n",
    "        'Check-in service',\n",
    "        'Cleanliness',\n",
    "        'Online boarding',\n",
    "        'Departure Delay in Minutes',\n",
    "        'Arrival Delay in Minutes'\n",
    "    ],\n",
    "    'Description': [\n",
    "        'Indicates the level of customer satisfaction',\n",
    "        'Represents the gender of the customer',\n",
    "        'Specifies whether the customer is a loyal or disloyal customer',\n",
    "        'Represents the age of the customer',\n",
    "        'Indicates the purpose of the travel, such as business or personal',\n",
    "        'Specifies the class of the flight, such as Business, Eco, or Eco Plus',\n",
    "        'Represents the distance of the flight in miles',\n",
    "        'Indicates the level of comfort experienced with the seating arrangements',\n",
    "        'Represents the convenience of departure and arrival times',\n",
    "        'Indicates the satisfaction level with the food and drink options',\n",
    "        'Represents the satisfaction level with the location of the boarding gate',\n",
    "        'Indicates the satisfaction level with the in-flight wifi service',\n",
    "        'Represents the satisfaction level with the in-flight entertainment options',\n",
    "        'Indicates the satisfaction level with the online customer support',\n",
    "        'Represents the ease of booking flights online',\n",
    "        'Indicates the satisfaction level with the on-board services provided',\n",
    "        'Represents the satisfaction level with the legroom space',\n",
    "        'Indicates the satisfaction level with the baggage handling process',\n",
    "        'Represents the satisfaction level with the check-in process',\n",
    "        'Indicates the satisfaction level with the cleanliness of the flight',\n",
    "        'Represents the satisfaction level with the online boarding process',\n",
    "        'Represents the number of minutes of departure delay',\n",
    "        'Represents the number of minutes of arrival delay'\n",
    "    ]\n",
    "}\n",
    "\n",
    "dict_df = pd.DataFrame(data)\n",
    "dict_df\n",
    "\n"
   ]
  },
  {
   "cell_type": "markdown",
   "id": "1179d6dc",
   "metadata": {},
   "source": [
    "## Data Analysis"
   ]
  },
  {
   "cell_type": "code",
   "execution_count": 5,
   "id": "cab6c9b9",
   "metadata": {},
   "outputs": [],
   "source": [
    "profile = ProfileReport(data)"
   ]
  },
  {
   "cell_type": "code",
   "execution_count": 6,
   "id": "fcf31941",
   "metadata": {},
   "outputs": [],
   "source": [
    "profile.to_file(output_file = 'Customer_Satisfaction_Profiling.html')"
   ]
  },
  {
   "cell_type": "code",
   "execution_count": 7,
   "id": "d2a62f1e",
   "metadata": {
    "scrolled": true
   },
   "outputs": [],
   "source": [
    "profile.to_notebook_iframe()"
   ]
  },
  {
   "cell_type": "code",
   "execution_count": 8,
   "id": "a4ee1c58",
   "metadata": {
    "scrolled": true
   },
   "outputs": [],
   "source": [
    "# Checking the number of rows and columns\n",
    "data.shape"
   ]
  },
  {
   "cell_type": "code",
   "execution_count": 9,
   "id": "aad9288e",
   "metadata": {
    "scrolled": true
   },
   "outputs": [],
   "source": [
    "# Checking the type of the columns\n",
    "data.info()"
   ]
  },
  {
   "cell_type": "code",
   "execution_count": 10,
   "id": "6f6775dc",
   "metadata": {},
   "outputs": [],
   "source": [
    "# Chekcing null data\n",
    "data.isnull().sum()"
   ]
  },
  {
   "cell_type": "markdown",
   "id": "d5dcaf0e",
   "metadata": {},
   "source": [
    "### Analysis of Entries by Column"
   ]
  },
  {
   "cell_type": "code",
   "execution_count": 11,
   "id": "69e39d93",
   "metadata": {},
   "outputs": [],
   "source": [
    "# imputing mean for missing values \n",
    "\n",
    "data['Arrival Delay in Minutes'].fillna((round(data['Arrival Delay in Minutes'].mean(),0)), inplace=True)"
   ]
  },
  {
   "cell_type": "code",
   "execution_count": 12,
   "id": "31ce4c20",
   "metadata": {
    "scrolled": false
   },
   "outputs": [],
   "source": [
    "# Analysing customer type\n",
    "\n",
    "count_customer_type = data['Customer Type'].value_counts()\n",
    "count_customer_type"
   ]
  },
  {
   "cell_type": "code",
   "execution_count": 13,
   "id": "56ed6281",
   "metadata": {},
   "outputs": [],
   "source": [
    "# Analysing type of travel\n",
    "\n",
    "count_travel_type = data['Type of Travel'].value_counts()\n",
    "count_travel_type"
   ]
  },
  {
   "cell_type": "code",
   "execution_count": 14,
   "id": "445fb4ef",
   "metadata": {
    "scrolled": true
   },
   "outputs": [],
   "source": [
    "# Analysing class\n",
    "\n",
    "count_class = data['Class'].value_counts()\n",
    "count_class"
   ]
  },
  {
   "cell_type": "markdown",
   "id": "bab13cc7",
   "metadata": {},
   "source": [
    "### Data transformation to binary"
   ]
  },
  {
   "cell_type": "code",
   "execution_count": 15,
   "id": "f571acb8",
   "metadata": {},
   "outputs": [],
   "source": [
    "# Class needs to be int (0=Business; 1=Eco, 2=Eco Plus)\n",
    "data.loc[data['Class'] == 'Business', 'Class'] = '0'\n",
    "data.loc[data['Class'] == 'Eco', 'Class'] = '1'\n",
    "data.loc[data['Class'] == 'Eco Plus', 'Class'] = '2'"
   ]
  },
  {
   "cell_type": "code",
   "execution_count": 16,
   "id": "21610fb8",
   "metadata": {},
   "outputs": [],
   "source": [
    "# Satisfaction needs to be binary (0=dissatisfied; 1=satisfied)\n",
    "data.loc[data['satisfaction'] == 'satisfied', 'satisfaction'] = '1'\n",
    "data.loc[data['satisfaction'] == 'dissatisfied', 'satisfaction'] = '0'"
   ]
  },
  {
   "cell_type": "code",
   "execution_count": 17,
   "id": "26b08046",
   "metadata": {},
   "outputs": [],
   "source": [
    "# Gender needs to be binary (0=female; 1=male)\n",
    "data.loc[data['Gender'] == 'Female', 'Gender'] = '0'\n",
    "data.loc[data['Gender'] == 'Male', 'Gender'] = '1'"
   ]
  },
  {
   "cell_type": "code",
   "execution_count": 18,
   "id": "59bade13",
   "metadata": {},
   "outputs": [],
   "source": [
    "# Customer Type needs to be binary (0=Loyal; 1=Disloyal)\n",
    "data.loc[data['Customer Type'] == 'Loyal Customer', 'Customer Type'] = '0'\n",
    "data.loc[data['Customer Type'] == 'disloyal Customer', 'Customer Type'] = '1'"
   ]
  },
  {
   "cell_type": "code",
   "execution_count": 19,
   "id": "a023e215",
   "metadata": {},
   "outputs": [],
   "source": [
    "# Travel Type needs to be binary (0=Business travel; 1=Personal Travel)\n",
    "data.loc[data['Type of Travel'] == 'Business travel', 'Type of Travel'] = '0'\n",
    "data.loc[data['Type of Travel'] == 'Personal Travel', 'Type of Travel'] = '1'\n",
    "data['Type of Travel'].value_counts()"
   ]
  },
  {
   "cell_type": "markdown",
   "id": "907aa489",
   "metadata": {},
   "source": [
    "### Descriptive Statistics"
   ]
  },
  {
   "cell_type": "code",
   "execution_count": 20,
   "id": "8f715683",
   "metadata": {},
   "outputs": [],
   "source": [
    "data.head()"
   ]
  },
  {
   "cell_type": "code",
   "execution_count": 21,
   "id": "32fbc250",
   "metadata": {},
   "outputs": [],
   "source": [
    "for column in data.columns:\n",
    "    if column is not data['Arrival Delay in Minutes']:\n",
    "        data[column] = pd.to_numeric(data[column], errors='coerce')\n",
    "    else:\n",
    "        continue"
   ]
  },
  {
   "cell_type": "code",
   "execution_count": 22,
   "id": "5947024a",
   "metadata": {},
   "outputs": [],
   "source": [
    "data.dtypes"
   ]
  },
  {
   "cell_type": "code",
   "execution_count": 23,
   "id": "671e7e2f",
   "metadata": {
    "scrolled": true
   },
   "outputs": [],
   "source": [
    "# Descriptive Analysis \n",
    "data.describe().round(2)"
   ]
  },
  {
   "cell_type": "code",
   "execution_count": 24,
   "id": "e515fb50",
   "metadata": {
    "scrolled": false
   },
   "outputs": [],
   "source": [
    "# Data Correlation satisfaction x variables\n",
    "data_corr = data.corr().round(4)\n",
    "data_corr = data_corr.iloc[:, 0].sort_values(ascending=False)\n",
    "data_corr = pd.DataFrame(data_corr)"
   ]
  },
  {
   "cell_type": "code",
   "execution_count": 25,
   "id": "0d3c7474",
   "metadata": {},
   "outputs": [],
   "source": [
    "data_corr.rename(columns={'satisfaction': 'Correlation'}, inplace=True)"
   ]
  },
  {
   "cell_type": "code",
   "execution_count": 26,
   "id": "ddc2c79b",
   "metadata": {},
   "outputs": [],
   "source": [
    "data_corr = data_corr.sort_values(by='Correlation', ascending=False)\n",
    "data_corr"
   ]
  },
  {
   "cell_type": "markdown",
   "id": "f13d1276",
   "metadata": {},
   "source": [
    "## Interpretation of Pearson's Correlation Coefficient\n",
    "\n",
    "Plus or minus 0.9 indicates a very strong correlation.\n",
    "\n",
    "\n",
    "0.5 to 0.7 positive or negative indicates a **moderate correlation**.\n",
    "\n",
    "* Positive\n",
    "        \n",
    "        Inflight entertainment\t        0.5235\n",
    "\n",
    "\n",
    "0.3 to 0.5 positive or negative indicates a **weak correlation**.\n",
    "\n",
    "* Positive\n",
    "        \n",
    "        Ease of Online booking\t        0.4318\n",
    "        Online support\t                0.3901\n",
    "        On-board service\t            0.3520\n",
    "        Online boarding              \t0.3381\n",
    "        Leg room service            \t0.3049\n",
    "        \n",
    "0 to 0.3 positive or negative indicates a negligible correlation.\n",
    "\n",
    "* Positive\n",
    "        \n",
    "        Checkin service                 0.2662\n",
    "        Baggage handling                0.2603\n",
    "        Cleanliness                 \t0.2593\n",
    "        Seat comfort                    0.2424\n",
    "        Inflight wifi service           0.2271\n",
    "\n",
    "* Negativo\n",
    "\n",
    "        Gender                       \t-0.2122\n",
    "        Class\t                       \t-0.2789\n",
    "        Customer Type                   -0.2926"
   ]
  },
  {
   "cell_type": "code",
   "execution_count": 27,
   "id": "f6cbf9fb",
   "metadata": {},
   "outputs": [],
   "source": [
    "# Plotting histogram\n",
    "sns.set(font_scale=1.0, rc={'figure.figsize': (15,15)})\n",
    "axis = data.hist(bins=20)"
   ]
  },
  {
   "cell_type": "markdown",
   "id": "78ab17bb",
   "metadata": {},
   "source": [
    "## Boxplot of the variables with moderate and weak correlation"
   ]
  },
  {
   "cell_type": "code",
   "execution_count": 28,
   "id": "448a6e65",
   "metadata": {},
   "outputs": [],
   "source": [
    "plt.figure(figsize=(10,5))\n",
    "\n",
    "ax = sns.boxplot(data=data, x='satisfaction', y='Inflight entertainment')\n",
    "ax.set_title('Boxplot Inflight Entertainment', fontsize=20)"
   ]
  },
  {
   "cell_type": "code",
   "execution_count": 29,
   "id": "e0b6820d",
   "metadata": {},
   "outputs": [],
   "source": [
    "plt.figure(figsize=(10,5))\n",
    "\n",
    "ax = sns.boxplot(data=data, x='satisfaction', y='Ease of Online booking')\n",
    "ax.set_title('Boxplot Ease of Online booking', fontsize=20)"
   ]
  },
  {
   "cell_type": "code",
   "execution_count": 30,
   "id": "2492d1fb",
   "metadata": {},
   "outputs": [],
   "source": [
    "plt.figure(figsize=(10,5))\n",
    "\n",
    "ax = sns.boxplot(data=data, x='satisfaction', y='Checkin service')\n",
    "ax.set_title('Boxplot Checkin Service', fontsize=20)"
   ]
  },
  {
   "cell_type": "code",
   "execution_count": 31,
   "id": "2120fbb6",
   "metadata": {},
   "outputs": [],
   "source": [
    "plt.figure(figsize=(10,5))\n",
    "\n",
    "ax = sns.boxplot(data=data, x='satisfaction', y='On-board service')\n",
    "ax.set_title('Boxplot Board Service', fontsize=20)"
   ]
  },
  {
   "cell_type": "markdown",
   "id": "1d83fe2b",
   "metadata": {},
   "source": [
    "## Saving dataset after processing"
   ]
  },
  {
   "cell_type": "code",
   "execution_count": 33,
   "id": "34618c62",
   "metadata": {},
   "outputs": [],
   "source": [
    "data.to_csv('data/Invistico_Airline_treated.csv')"
   ]
  },
  {
   "cell_type": "code",
   "execution_count": null,
   "id": "73b22062",
   "metadata": {},
   "outputs": [],
   "source": []
  }
 ],
 "metadata": {
  "kernelspec": {
   "display_name": "Python 3 (ipykernel)",
   "language": "python",
   "name": "python3"
  },
  "language_info": {
   "codemirror_mode": {
    "name": "ipython",
    "version": 3
   },
   "file_extension": ".py",
   "mimetype": "text/x-python",
   "name": "python",
   "nbconvert_exporter": "python",
   "pygments_lexer": "ipython3",
   "version": "3.10.11"
  }
 },
 "nbformat": 4,
 "nbformat_minor": 5
}
