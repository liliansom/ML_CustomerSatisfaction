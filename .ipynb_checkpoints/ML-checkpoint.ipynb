{
 "cells": [
  {
   "cell_type": "code",
   "execution_count": 3,
   "id": "f899eb4e",
   "metadata": {},
   "outputs": [],
   "source": [
    "import pickle"
   ]
  },
  {
   "cell_type": "code",
   "execution_count": 4,
   "id": "61e99e2f",
   "metadata": {},
   "outputs": [],
   "source": [
    "model = pickle.load(open('satisfaction_model.pkl', 'rb'))"
   ]
  },
  {
   "cell_type": "code",
   "execution_count": 16,
   "id": "3d75fc87",
   "metadata": {},
   "outputs": [
    {
     "data": {
      "text/plain": [
       "\"# Function to predict \\ndef predict(parameter):\\n    prevision = model.predict(parameter)\\n    prob = model.predict_proba(parameter)\\n    \\n    if predict == 0:\\n        print('Not a satisfied client!')\\n        print(prob)\\n    else:\\n        print('Satisfied client!')\\n        print(prob)\""
      ]
     },
     "execution_count": 16,
     "metadata": {},
     "output_type": "execute_result"
    }
   ],
   "source": [
    "def research():\n",
    "    print(f'Customer Type: 0 = Loyal Customer and 1 = Disloyal Customer ')\n",
    "    customer_type = int(input('Type a number: '))\n",
    "\n",
    "    print('Gender: 0 = Female and 1 = Male')\n",
    "    gender = int(input('Gender: '))\n",
    "\n",
    "    print('Class: 0 = Business and 1 = Eco and 2 = Eco Plus')\n",
    "    class_ = int(input('Class: '))\n",
    "\n",
    "    print('Seat comfort: 0 = Bad to 5 = Great')\n",
    "    seat_conf = int(input('Seat Comfort: '))\n",
    "\n",
    "    print('Inflight wifi service: 0 = Bad to 5 = Great')\n",
    "    wifi_inflight = int(input('Inflight wifi service: '))\n",
    "\n",
    "    print('Inflight entertainment: 0 = Bad to 5 = Great')\n",
    "    inflight_ent = int(input('Inflight entertainment: '))\n",
    "\n",
    "    print('Online support: 0 = Bad to 5 = Great')\n",
    "    online_support = int(input('Online support: '))\n",
    "\n",
    "    print('Ease of Online booking: 0 = Bad to 5 = Great')\n",
    "    ease_online_booking = int(input('Ease of Online booking: '))\n",
    "\n",
    "    print('On-board service: 0 = Bad to 5 = Great')\n",
    "    onboard_service = int(input('On-board service: '))\n",
    "\n",
    "    print('Leg room service: 0 = Bad to 5 = Great')\n",
    "    leg_room = int(input('Leg room service: '))\n",
    "\n",
    "    print('Baggage handling: 0 = Bad to 5 = Great')\n",
    "    baggage = int(input('Baggage handling: '))\n",
    "\n",
    "    print('Checkin service: 0 = Bad to 5 = Great')\n",
    "    checkin = int(input('Checkin service: '))\n",
    "\n",
    "    print('Cleanliness: 0 = Bad to 5 = Great')\n",
    "    clean = int(input('Cleanliness: '))\n",
    "\n",
    "    print('Online boarding: 0 = Bad to 5 = Great')\n",
    "    online_boarding = int(input('Online boarding: '))\n",
    "\n",
    "    parameter = [[customer_type, gender, class_, seat_conf, wifi_inflight, inflight_ent, online_support, ease_online_booking, onboard_service, leg_room, baggage, checkin, clean, online_boarding]]\n",
    "\n",
    "    return parameter\n",
    "\n",
    "\n",
    "\"\"\"# Function to predict \n",
    "def predict(parameter):\n",
    "    prevision = model.predict(parameter)\n",
    "    prob = model.predict_proba(parameter)\n",
    "    \n",
    "    if predict == 0:\n",
    "        print('Not a satisfied client!')\n",
    "        print(prob)\n",
    "    else:\n",
    "        print('Satisfied client!')\n",
    "        print(prob)\"\"\""
   ]
  },
  {
   "cell_type": "code",
   "execution_count": 13,
   "id": "e4a8179a",
   "metadata": {},
   "outputs": [
    {
     "name": "stdout",
     "output_type": "stream",
     "text": [
      "Customer Type: 0 = Loyal Customer and 1 = Disloyal Customer \n",
      "Type a number: 1\n",
      "Gender: 0 = Female and 1 = Male\n",
      "Gender: 1\n",
      "Class: 0 = Business and 1 = Eco and 2 = Eco Plus\n",
      "Class: 2\n",
      "Seat comfort: 0 = Bad to 5 = Great\n",
      "Seat Comfort: 0\n",
      "Inflight wifi service: 0 = Bad to 5 = Great\n",
      "Inflight wifi service: 0\n",
      "Inflight entertainment: 0 = Bad to 5 = Great\n",
      "Inflight entertainment: 0\n",
      "Online support: 0 = Bad to 5 = Great\n",
      "Online support: 0\n",
      "Ease of Online booking: 0 = Bad to 5 = Great\n",
      "Ease of Online booking: 0\n",
      "On-board service: 0 = Bad to 5 = Great\n",
      "On-board service: 0\n",
      "Leg room service: 0 = Bad to 5 = Great\n",
      "Leg room service: 0\n",
      "Baggage handling: 0 = Bad to 5 = Great\n",
      "Baggage handling: 0\n",
      "Checkin service: 0 = Bad to 5 = Great\n",
      "Checkin service: 0\n",
      "Cleanliness: 0 = Bad to 5 = Great\n",
      "Cleanliness: 0\n",
      "Online boarding: 0 = Bad to 5 = Great\n",
      "Online boarding: 0\n"
     ]
    }
   ],
   "source": [
    "parameter = research()"
   ]
  },
  {
   "cell_type": "code",
   "execution_count": 15,
   "id": "cce4c01f",
   "metadata": {},
   "outputs": [],
   "source": [
    "#predict(parameter)"
   ]
  },
  {
   "cell_type": "code",
   "execution_count": null,
   "id": "3a469e9f",
   "metadata": {},
   "outputs": [],
   "source": []
  },
  {
   "cell_type": "code",
   "execution_count": null,
   "id": "310a5f9d",
   "metadata": {},
   "outputs": [],
   "source": []
  }
 ],
 "metadata": {
  "kernelspec": {
   "display_name": "Python 3 (ipykernel)",
   "language": "python",
   "name": "python3"
  },
  "language_info": {
   "codemirror_mode": {
    "name": "ipython",
    "version": 3
   },
   "file_extension": ".py",
   "mimetype": "text/x-python",
   "name": "python",
   "nbconvert_exporter": "python",
   "pygments_lexer": "ipython3",
   "version": "3.10.11"
  }
 },
 "nbformat": 4,
 "nbformat_minor": 5
}
