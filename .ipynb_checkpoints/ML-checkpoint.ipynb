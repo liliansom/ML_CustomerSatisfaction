{
 "cells": [
  {
   "cell_type": "markdown",
   "id": "6f13978c",
   "metadata": {},
   "source": [
    "##  Import"
   ]
  },
  {
   "cell_type": "code",
   "execution_count": 1,
   "id": "f899eb4e",
   "metadata": {},
   "outputs": [],
   "source": [
    "# Importing the libraries\n",
    "\n",
    "import joblib"
   ]
  },
  {
   "cell_type": "code",
   "execution_count": 2,
   "id": "61e99e2f",
   "metadata": {},
   "outputs": [],
   "source": [
    "# Importing the model\n",
    "\n",
    "model = joblib.load('satisfaction_model.pkl') "
   ]
  },
  {
   "cell_type": "markdown",
   "id": "3136442a",
   "metadata": {},
   "source": [
    "## Functions"
   ]
  },
  {
   "cell_type": "code",
   "execution_count": 3,
   "id": "3d75fc87",
   "metadata": {},
   "outputs": [],
   "source": [
    "# Creating the functions to teste the model\n",
    "def research():\n",
    "    print(f'Customer Type: 0 = Loyal Customer and 1 = Disloyal Customer ')\n",
    "    customer_type = int(input('Type a number: '))\n",
    "    print()\n",
    "    \n",
    "    print('Gender: 0 = Female and 1 = Male')\n",
    "    gender = int(input('Gender: '))\n",
    "    print()\n",
    "    \n",
    "    print('Class: 0 = Business and 1 = Eco and 2 = Eco Plus')\n",
    "    class_ = int(input('Class: '))\n",
    "    print()\n",
    "    \n",
    "    print('Seat comfort: 0 = Bad to 5 = Great')\n",
    "    seat_conf = int(input('Seat Comfort: '))\n",
    "    print()\n",
    "    \n",
    "    print('Inflight wifi service: 0 = Bad to 5 = Great')\n",
    "    wifi_inflight = int(input('Inflight wifi service: '))\n",
    "    print()\n",
    "    \n",
    "    print('Inflight entertainment: 0 = Bad to 5 = Great')\n",
    "    inflight_ent = int(input('Inflight entertainment: '))\n",
    "    print()\n",
    "    \n",
    "    print('Online support: 0 = Bad to 5 = Great')\n",
    "    online_support = int(input('Online support: '))\n",
    "    print()\n",
    "    \n",
    "    print('Ease of Online booking: 0 = Bad to 5 = Great')\n",
    "    ease_online_booking = int(input('Ease of Online booking: '))\n",
    "    print()\n",
    "    \n",
    "    print('On-board service: 0 = Bad to 5 = Great')\n",
    "    onboard_service = int(input('On-board service: '))\n",
    "    print()\n",
    "    \n",
    "    print('Leg room service: 0 = Bad to 5 = Great')\n",
    "    leg_room = int(input('Leg room service: '))\n",
    "    print()\n",
    "    \n",
    "    print('Baggage handling: 0 = Bad to 5 = Great')\n",
    "    baggage = int(input('Baggage handling: '))\n",
    "    print()\n",
    "    \n",
    "    print('Checkin service: 0 = Bad to 5 = Great')\n",
    "    checkin = int(input('Checkin service: '))\n",
    "    print()\n",
    "    \n",
    "    print('Cleanliness: 0 = Bad to 5 = Great')\n",
    "    clean = int(input('Cleanliness: '))\n",
    "    print()\n",
    "    \n",
    "    print('Online boarding: 0 = Bad to 5 = Great')\n",
    "    online_boarding = int(input('Online boarding: '))\n",
    "    print()\n",
    "    \n",
    "    parameter = [[customer_type, gender, class_, seat_conf, wifi_inflight, inflight_ent, online_support, ease_online_booking, onboard_service, leg_room, baggage, checkin, clean, online_boarding]]\n",
    "\n",
    "    return parameter\n",
    "\n",
    "\n",
    "# Function to predict \n",
    "def predict(parameter):\n",
    "    prevision = model.predict(parameter)\n",
    "    prob = model.predict_proba(parameter)\n",
    "    prob_matrix = prob[0]\n",
    "    prob_dissatisfaction = prob_matrix[0].round(2)\n",
    "    prob_satisfaction = prob_matrix[1].round(2) * 100\n",
    "\n",
    "    if prob_dissatisfaction > prob_satisfaction:\n",
    "        print('Dissatisfied client')\n",
    "        print(f'Percentual of dissatisfaction: {prob_dissatisfaction}%')\n",
    "    else:\n",
    "        print('Satisfied cliente')\n",
    "        print(f'Percentual of Satisfaction: {prob_satisfaction}%')\n"
   ]
  },
  {
   "cell_type": "markdown",
   "id": "81cb23c8",
   "metadata": {},
   "source": [
    "## Inputing parameters"
   ]
  },
  {
   "cell_type": "code",
   "execution_count": 6,
   "id": "e4a8179a",
   "metadata": {},
   "outputs": [
    {
     "name": "stdout",
     "output_type": "stream",
     "text": [
      "Customer Type: 0 = Loyal Customer and 1 = Disloyal Customer \n",
      "Type a number: 0\n",
      "\n",
      "Gender: 0 = Female and 1 = Male\n",
      "Gender: 1\n",
      "\n",
      "Class: 0 = Business and 1 = Eco and 2 = Eco Plus\n",
      "Class: 0\n",
      "\n",
      "Seat comfort: 0 = Bad to 5 = Great\n",
      "Seat Comfort: 5\n",
      "\n",
      "Inflight wifi service: 0 = Bad to 5 = Great\n",
      "Inflight wifi service: 4\n",
      "\n",
      "Inflight entertainment: 0 = Bad to 5 = Great\n",
      "Inflight entertainment: 5\n",
      "\n",
      "Online support: 0 = Bad to 5 = Great\n",
      "Online support: 3\n",
      "\n",
      "Ease of Online booking: 0 = Bad to 5 = Great\n",
      "Ease of Online booking: 5\n",
      "\n",
      "On-board service: 0 = Bad to 5 = Great\n",
      "On-board service: 4\n",
      "\n",
      "Leg room service: 0 = Bad to 5 = Great\n",
      "Leg room service: 4\n",
      "\n",
      "Baggage handling: 0 = Bad to 5 = Great\n",
      "Baggage handling: 4\n",
      "\n",
      "Checkin service: 0 = Bad to 5 = Great\n",
      "Checkin service: 4\n",
      "\n",
      "Cleanliness: 0 = Bad to 5 = Great\n",
      "Cleanliness: 5\n",
      "\n",
      "Online boarding: 0 = Bad to 5 = Great\n",
      "Online boarding: 4\n",
      "\n"
     ]
    }
   ],
   "source": [
    "# Inputing the parameters of the 'client'\n",
    "\n",
    "parameter = research()"
   ]
  },
  {
   "cell_type": "markdown",
   "id": "53050221",
   "metadata": {},
   "source": [
    "## Results"
   ]
  },
  {
   "cell_type": "code",
   "execution_count": 7,
   "id": "b11a04b4",
   "metadata": {},
   "outputs": [
    {
     "name": "stdout",
     "output_type": "stream",
     "text": [
      "Satisfied cliente\n",
      "Percentual of Satisfaction: 94.0%\n"
     ]
    },
    {
     "name": "stderr",
     "output_type": "stream",
     "text": [
      "C:\\Users\\LILIAN\\.conda\\envs\\analisedados\\lib\\site-packages\\sklearn\\base.py:439: UserWarning: X does not have valid feature names, but LogisticRegression was fitted with feature names\n",
      "  warnings.warn(\n",
      "C:\\Users\\LILIAN\\.conda\\envs\\analisedados\\lib\\site-packages\\sklearn\\base.py:439: UserWarning: X does not have valid feature names, but LogisticRegression was fitted with feature names\n",
      "  warnings.warn(\n"
     ]
    }
   ],
   "source": [
    "# Calculating the probabilities and customer satisfaction\n",
    "probability = predict(parameter)\n",
    "probability"
   ]
  },
  {
   "cell_type": "code",
   "execution_count": null,
   "id": "51e996aa",
   "metadata": {},
   "outputs": [],
   "source": []
  }
 ],
 "metadata": {
  "kernelspec": {
   "display_name": "Python 3 (ipykernel)",
   "language": "python",
   "name": "python3"
  },
  "language_info": {
   "codemirror_mode": {
    "name": "ipython",
    "version": 3
   },
   "file_extension": ".py",
   "mimetype": "text/x-python",
   "name": "python",
   "nbconvert_exporter": "python",
   "pygments_lexer": "ipython3",
   "version": "3.10.11"
  }
 },
 "nbformat": 4,
 "nbformat_minor": 5
}
