{
 "cells": [
  {
   "cell_type": "code",
   "execution_count": 1,
   "id": "cc225f33",
   "metadata": {},
   "outputs": [
    {
     "ename": "SyntaxError",
     "evalue": "invalid syntax (4169786190.py, line 1)",
     "output_type": "error",
     "traceback": [
      "\u001b[1;36m  Cell \u001b[1;32mIn[1], line 1\u001b[1;36m\u001b[0m\n\u001b[1;33m    from Dataset_analysis.ipynb import\u001b[0m\n\u001b[1;37m                                      ^\u001b[0m\n\u001b[1;31mSyntaxError\u001b[0m\u001b[1;31m:\u001b[0m invalid syntax\n"
     ]
    }
   ],
   "source": [
    "from Dataset_analysis.ipynb import"
   ]
  },
  {
   "cell_type": "code",
   "execution_count": 2,
   "id": "f04e3f96",
   "metadata": {},
   "outputs": [],
   "source": [
    "# Function to research new data \n",
    "def research():\n",
    "    print(f'Customer Type: 0 = Loyal Customer and 1 = Disloyal Customer ')\n",
    "    customer_type = input('Type a number: ')\n",
    "    \n",
    "    print('Gender: 0 = Female and 1 = Male')\n",
    "    gender = input('Gender: ')\n",
    "    \n",
    "    print('Class: 0 = Business and 1 = Eco and 2 = Eco Plus')\n",
    "    class_ = input('Class: ')\n",
    "    \n",
    "    print('Seat comfort: 0 = Bad to 5 = Great')\n",
    "    seat_conf = input('Seat Confort: ')\n",
    "    \n",
    "    print('Inflight wifi service: 0 = Bad to 5 = Great')\n",
    "    wifi_inflight = input('Inflight wifi service: ')\n",
    "    \n",
    "    print('Inflight entertainment: 0 = Bad to 5 = Great')\n",
    "    inflight_ent = input('Inflight entertainment: ')\n",
    "    \n",
    "    print('Online support: 0 = Bad to 5 = Great')\n",
    "    online_support = input('Online support: ')\n",
    "\n",
    "    print('Ease of Online booking: 0 = Bad to 5 = Great')\n",
    "    ease_online_booking = input('Ease of Online booking: ')\n",
    "    \n",
    "    print('On-board service: 0 = Bad to 5 = Great')\n",
    "    onboard_service = input('On-board service: ')\n",
    "    \n",
    "    print('Leg room service: 0 = Bad to 5 = Great')\n",
    "    leg_room = input('Leg room service: ')\n",
    "    \n",
    "    print('Baggage handling: 0 = Bad to 5 = Great')\n",
    "    baggage = input('Baggage handling: ')\n",
    "    \n",
    "    print('Checkin service: 0 = Bad to 5 = Great')\n",
    "    checkin = input('Checkin service: ')\n",
    "    \n",
    "    print('Cleanliness: 0 = Bad to 5 = Great')\n",
    "    clean = input('Cleanliness: ')\n",
    "    \n",
    "    print('Online boarding: 0 = Bad to 5 = Great')\n",
    "    online_boarding = input('Online boarding: ')\n",
    "    \n",
    "    parameter = [[customer_type, gender, class_, seat_conf, wifi_inflight, inflight_ent, online_support, ease_online_booking, onboard_service, leg_room, baggage, checkin, clean, online_boarding]]\n",
    "\n",
    "    return parameter\n",
    "\n",
    "# Function to predict \n",
    "def predict():\n",
    "    prevision = f_log1.predict(parameter)\n",
    "    prob = f_log1.predict_proba(parameter)\n",
    "    \n",
    "    if predict == 0:\n",
    "        print('Not a satified client!')\n",
    "        print(prob)\n",
    "    else:\n",
    "        print('Satisfied client!')\n",
    "        print(prob)"
   ]
  },
  {
   "cell_type": "code",
   "execution_count": null,
   "id": "11743066",
   "metadata": {},
   "outputs": [
    {
     "name": "stdout",
     "output_type": "stream",
     "text": [
      "Customer Type: 0 = Loyal Customer and 1 = Disloyal Customer \n"
     ]
    }
   ],
   "source": [
    "research()"
   ]
  },
  {
   "cell_type": "code",
   "execution_count": null,
   "id": "856265c4",
   "metadata": {},
   "outputs": [],
   "source": [
    "predict()"
   ]
  },
  {
   "cell_type": "code",
   "execution_count": null,
   "id": "a38b792b",
   "metadata": {},
   "outputs": [],
   "source": []
  }
 ],
 "metadata": {
  "kernelspec": {
   "display_name": "Python 3 (ipykernel)",
   "language": "python",
   "name": "python3"
  },
  "language_info": {
   "codemirror_mode": {
    "name": "ipython",
    "version": 3
   },
   "file_extension": ".py",
   "mimetype": "text/x-python",
   "name": "python",
   "nbconvert_exporter": "python",
   "pygments_lexer": "ipython3",
   "version": "3.10.11"
  }
 },
 "nbformat": 4,
 "nbformat_minor": 5
}
