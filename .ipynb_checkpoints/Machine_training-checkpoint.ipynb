{
 "cells": [
  {
   "cell_type": "markdown",
   "id": "2d8da08c",
   "metadata": {},
   "source": [
    "## Import"
   ]
  },
  {
   "cell_type": "code",
   "execution_count": 1,
   "id": "b9e7855f",
   "metadata": {},
   "outputs": [],
   "source": [
    "# Importing the libraries\n",
    "\n",
    "import pandas as pd\n",
    "from sklearn.model_selection import train_test_split\n",
    "from sklearn.linear_model import LogisticRegression\n",
    "from sklearn.metrics import confusion_matrix\n",
    "from sklearn.metrics import classification_report\n",
    "import pickle"
   ]
  },
  {
   "cell_type": "code",
   "execution_count": 2,
   "id": "df2e247f",
   "metadata": {},
   "outputs": [],
   "source": [
    "# Importing the dataset\n",
    "\n",
    "url = 'https://raw.githubusercontent.com/liliansom/ML_CustomerSatisfaction/main/data/Invistico_Airline_treated.csv'\n",
    "data = pd.read_csv(url)"
   ]
  },
  {
   "cell_type": "markdown",
   "id": "7767925b",
   "metadata": {},
   "source": [
    "## Model 1"
   ]
  },
  {
   "cell_type": "code",
   "execution_count": 3,
   "id": "8df7579b",
   "metadata": {},
   "outputs": [],
   "source": [
    "# Selecting the variables that will be used at this model\n",
    "new_data = data[['Inflight entertainment', \n",
    "                'Ease of Online booking', \n",
    "                'On-board service', \n",
    "                'Online boarding', \n",
    "                'Leg room service', \n",
    "                'Customer Type']]\n",
    "\n",
    "caracteristicas = new_data\n",
    "previsor = data['satisfaction']"
   ]
  },
  {
   "cell_type": "code",
   "execution_count": 5,
   "id": "9b9c3965",
   "metadata": {},
   "outputs": [],
   "source": [
    "# Spliting the dataset: 80% for train and 20% for test\n",
    "\n",
    "X_train, X_test, y_train, y_test = train_test_split(caracteristicas, previsor, test_size=0.20, shuffle=True)"
   ]
  },
  {
   "cell_type": "code",
   "execution_count": 6,
   "id": "e3aeb510",
   "metadata": {},
   "outputs": [],
   "source": [
    "# Instantiating the model\n",
    "\n",
    "f_log = LogisticRegression()"
   ]
  },
  {
   "cell_type": "code",
   "execution_count": 7,
   "id": "f0052cab",
   "metadata": {},
   "outputs": [
    {
     "data": {
      "text/html": [
       "<style>#sk-container-id-1 {color: black;background-color: white;}#sk-container-id-1 pre{padding: 0;}#sk-container-id-1 div.sk-toggleable {background-color: white;}#sk-container-id-1 label.sk-toggleable__label {cursor: pointer;display: block;width: 100%;margin-bottom: 0;padding: 0.3em;box-sizing: border-box;text-align: center;}#sk-container-id-1 label.sk-toggleable__label-arrow:before {content: \"▸\";float: left;margin-right: 0.25em;color: #696969;}#sk-container-id-1 label.sk-toggleable__label-arrow:hover:before {color: black;}#sk-container-id-1 div.sk-estimator:hover label.sk-toggleable__label-arrow:before {color: black;}#sk-container-id-1 div.sk-toggleable__content {max-height: 0;max-width: 0;overflow: hidden;text-align: left;background-color: #f0f8ff;}#sk-container-id-1 div.sk-toggleable__content pre {margin: 0.2em;color: black;border-radius: 0.25em;background-color: #f0f8ff;}#sk-container-id-1 input.sk-toggleable__control:checked~div.sk-toggleable__content {max-height: 200px;max-width: 100%;overflow: auto;}#sk-container-id-1 input.sk-toggleable__control:checked~label.sk-toggleable__label-arrow:before {content: \"▾\";}#sk-container-id-1 div.sk-estimator input.sk-toggleable__control:checked~label.sk-toggleable__label {background-color: #d4ebff;}#sk-container-id-1 div.sk-label input.sk-toggleable__control:checked~label.sk-toggleable__label {background-color: #d4ebff;}#sk-container-id-1 input.sk-hidden--visually {border: 0;clip: rect(1px 1px 1px 1px);clip: rect(1px, 1px, 1px, 1px);height: 1px;margin: -1px;overflow: hidden;padding: 0;position: absolute;width: 1px;}#sk-container-id-1 div.sk-estimator {font-family: monospace;background-color: #f0f8ff;border: 1px dotted black;border-radius: 0.25em;box-sizing: border-box;margin-bottom: 0.5em;}#sk-container-id-1 div.sk-estimator:hover {background-color: #d4ebff;}#sk-container-id-1 div.sk-parallel-item::after {content: \"\";width: 100%;border-bottom: 1px solid gray;flex-grow: 1;}#sk-container-id-1 div.sk-label:hover label.sk-toggleable__label {background-color: #d4ebff;}#sk-container-id-1 div.sk-serial::before {content: \"\";position: absolute;border-left: 1px solid gray;box-sizing: border-box;top: 0;bottom: 0;left: 50%;z-index: 0;}#sk-container-id-1 div.sk-serial {display: flex;flex-direction: column;align-items: center;background-color: white;padding-right: 0.2em;padding-left: 0.2em;position: relative;}#sk-container-id-1 div.sk-item {position: relative;z-index: 1;}#sk-container-id-1 div.sk-parallel {display: flex;align-items: stretch;justify-content: center;background-color: white;position: relative;}#sk-container-id-1 div.sk-item::before, #sk-container-id-1 div.sk-parallel-item::before {content: \"\";position: absolute;border-left: 1px solid gray;box-sizing: border-box;top: 0;bottom: 0;left: 50%;z-index: -1;}#sk-container-id-1 div.sk-parallel-item {display: flex;flex-direction: column;z-index: 1;position: relative;background-color: white;}#sk-container-id-1 div.sk-parallel-item:first-child::after {align-self: flex-end;width: 50%;}#sk-container-id-1 div.sk-parallel-item:last-child::after {align-self: flex-start;width: 50%;}#sk-container-id-1 div.sk-parallel-item:only-child::after {width: 0;}#sk-container-id-1 div.sk-dashed-wrapped {border: 1px dashed gray;margin: 0 0.4em 0.5em 0.4em;box-sizing: border-box;padding-bottom: 0.4em;background-color: white;}#sk-container-id-1 div.sk-label label {font-family: monospace;font-weight: bold;display: inline-block;line-height: 1.2em;}#sk-container-id-1 div.sk-label-container {text-align: center;}#sk-container-id-1 div.sk-container {/* jupyter's `normalize.less` sets `[hidden] { display: none; }` but bootstrap.min.css set `[hidden] { display: none !important; }` so we also need the `!important` here to be able to override the default hidden behavior on the sphinx rendered scikit-learn.org. See: https://github.com/scikit-learn/scikit-learn/issues/21755 */display: inline-block !important;position: relative;}#sk-container-id-1 div.sk-text-repr-fallback {display: none;}</style><div id=\"sk-container-id-1\" class=\"sk-top-container\"><div class=\"sk-text-repr-fallback\"><pre>LogisticRegression()</pre><b>In a Jupyter environment, please rerun this cell to show the HTML representation or trust the notebook. <br />On GitHub, the HTML representation is unable to render, please try loading this page with nbviewer.org.</b></div><div class=\"sk-container\" hidden><div class=\"sk-item\"><div class=\"sk-estimator sk-toggleable\"><input class=\"sk-toggleable__control sk-hidden--visually\" id=\"sk-estimator-id-1\" type=\"checkbox\" checked><label for=\"sk-estimator-id-1\" class=\"sk-toggleable__label sk-toggleable__label-arrow\">LogisticRegression</label><div class=\"sk-toggleable__content\"><pre>LogisticRegression()</pre></div></div></div></div></div>"
      ],
      "text/plain": [
       "LogisticRegression()"
      ]
     },
     "execution_count": 7,
     "metadata": {},
     "output_type": "execute_result"
    }
   ],
   "source": [
    "f_log.fit(X_train, y_train)"
   ]
  },
  {
   "cell_type": "code",
   "execution_count": 8,
   "id": "9542de8a",
   "metadata": {},
   "outputs": [
    {
     "data": {
      "text/plain": [
       "array([1, 1, 1, ..., 1, 1, 0], dtype=int64)"
      ]
     },
     "execution_count": 8,
     "metadata": {},
     "output_type": "execute_result"
    }
   ],
   "source": [
    "# Predicting with the model\n",
    "previsoes = f_log.predict(X_test)\n",
    "previsoes"
   ]
  },
  {
   "cell_type": "code",
   "execution_count": 9,
   "id": "169a011a",
   "metadata": {},
   "outputs": [],
   "source": [
    "y_previsto_train = f_log.predict(X_train)"
   ]
  },
  {
   "cell_type": "markdown",
   "id": "6934b2a2",
   "metadata": {},
   "source": [
    "## Analysis of the Model"
   ]
  },
  {
   "cell_type": "markdown",
   "id": "b7726180",
   "metadata": {},
   "source": [
    "### Confusion Matrix\n",
    "A confusion matrix is a performance measurement tool used in machine learning to evaluate the accuracy of a classification model. It is a table that visualizes the performance of a model by comparing the actual labels of a dataset with the predicted labels generated by the model.\n",
    "\n",
    "The confusion matrix consists of four key components:\n",
    "\n",
    "1) True Positive (TP): The number of observations that are correctly predicted as positive or belonging to the positive class.\n",
    "\n",
    "2) True Negative (TN): The number of observations that are correctly predicted as negative or belonging to the negative class.\n",
    "\n",
    "3) False Positive (FP): The number of observations that are incorrectly predicted as positive when they actually belong to the negative class. Also known as a Type I error.\n",
    "\n",
    "4) False Negative (FN): The number of observations that are incorrectly predicted as negative when they actually belong to the positive class. Also known as a Type II error."
   ]
  },
  {
   "cell_type": "markdown",
   "id": "b474b219",
   "metadata": {},
   "source": [
    "### Classification Report\n",
    "A classification report is a summary of the performance metrics for a classification model. It provides a comprehensive evaluation of the model's predictive ability for each class in a multi-class classification problem.\n",
    "\n",
    "The classification report typically includes the following metrics for each class:\n",
    "\n",
    "Precision: It measures the proportion of true positive predictions among all positive predictions. It indicates how well the model correctly identifies positive instances for a given class.\n",
    "\n",
    "Recall: Also known as sensitivity or true positive rate, it measures the proportion of true positive predictions among all actual positive instances. It indicates the model's ability to correctly identify positive instances for a given class.\n",
    "\n",
    "F1-score: The F1-score is the harmonic mean of precision and recall. It provides a balanced measure of the model's performance, taking into account both precision and recall. It is often used as a single metric to evaluate the model's overall performance.\n",
    "\n",
    "Support: Support refers to the number of occurrences of each class in the test dataset. It provides insights into the distribution of instances across different classes.\n",
    "\n",
    "The classification report helps in understanding the strengths and weaknesses of the model for each class and can be useful in making decisions regarding model optimization or class-specific performance improvements."
   ]
  },
  {
   "cell_type": "code",
   "execution_count": 10,
   "id": "58d3af61",
   "metadata": {},
   "outputs": [
    {
     "data": {
      "text/plain": [
       "array([[ 9134,  2694],\n",
       "       [ 2419, 11729]], dtype=int64)"
      ]
     },
     "execution_count": 10,
     "metadata": {},
     "output_type": "execute_result"
    }
   ],
   "source": [
    "confusion_matrix(y_test, previsoes)"
   ]
  },
  {
   "cell_type": "code",
   "execution_count": 11,
   "id": "cd29e316",
   "metadata": {
    "scrolled": true
   },
   "outputs": [
    {
     "name": "stdout",
     "output_type": "stream",
     "text": [
      "              precision    recall  f1-score   support\n",
      "\n",
      "           0       0.79      0.77      0.78     11828\n",
      "           1       0.81      0.83      0.82     14148\n",
      "\n",
      "    accuracy                           0.80     25976\n",
      "   macro avg       0.80      0.80      0.80     25976\n",
      "weighted avg       0.80      0.80      0.80     25976\n",
      "\n"
     ]
    }
   ],
   "source": [
    "print(classification_report(y_test, previsoes))\n",
    "# recall = acertividade"
   ]
  },
  {
   "cell_type": "markdown",
   "id": "e800c23c",
   "metadata": {},
   "source": [
    "## Model 2"
   ]
  },
  {
   "cell_type": "code",
   "execution_count": 12,
   "id": "7ca4c065",
   "metadata": {},
   "outputs": [],
   "source": [
    "# Selecting the variables that will be used at this model\n",
    "new_data1 = data[['Customer Type', 'Gender', 'Class', 'Seat comfort',\n",
    "       'Inflight wifi service', 'Inflight entertainment', 'Online support',\n",
    "       'Ease of Online booking', 'On-board service', 'Leg room service',\n",
    "       'Baggage handling', 'Checkin service', 'Cleanliness', 'Online boarding']]"
   ]
  },
  {
   "cell_type": "code",
   "execution_count": 13,
   "id": "8a4c6fc4",
   "metadata": {},
   "outputs": [],
   "source": [
    "caracteristicas1 = new_data1\n",
    "previsor1 = data['satisfaction']"
   ]
  },
  {
   "cell_type": "code",
   "execution_count": 14,
   "id": "c6aa9736",
   "metadata": {},
   "outputs": [],
   "source": [
    "# Spliting the dataset: 80% for train and 20% for test\n",
    "X_train1, X_test1, y_train1, y_test1 = train_test_split(caracteristicas1, previsor1, test_size=0.20, shuffle=True)"
   ]
  },
  {
   "cell_type": "code",
   "execution_count": 15,
   "id": "2df39666",
   "metadata": {},
   "outputs": [],
   "source": [
    "# Instantiating the model\n",
    "f_log1 = LogisticRegression()"
   ]
  },
  {
   "cell_type": "code",
   "execution_count": 16,
   "id": "5e7c0bc7",
   "metadata": {},
   "outputs": [
    {
     "data": {
      "text/html": [
       "<style>#sk-container-id-2 {color: black;background-color: white;}#sk-container-id-2 pre{padding: 0;}#sk-container-id-2 div.sk-toggleable {background-color: white;}#sk-container-id-2 label.sk-toggleable__label {cursor: pointer;display: block;width: 100%;margin-bottom: 0;padding: 0.3em;box-sizing: border-box;text-align: center;}#sk-container-id-2 label.sk-toggleable__label-arrow:before {content: \"▸\";float: left;margin-right: 0.25em;color: #696969;}#sk-container-id-2 label.sk-toggleable__label-arrow:hover:before {color: black;}#sk-container-id-2 div.sk-estimator:hover label.sk-toggleable__label-arrow:before {color: black;}#sk-container-id-2 div.sk-toggleable__content {max-height: 0;max-width: 0;overflow: hidden;text-align: left;background-color: #f0f8ff;}#sk-container-id-2 div.sk-toggleable__content pre {margin: 0.2em;color: black;border-radius: 0.25em;background-color: #f0f8ff;}#sk-container-id-2 input.sk-toggleable__control:checked~div.sk-toggleable__content {max-height: 200px;max-width: 100%;overflow: auto;}#sk-container-id-2 input.sk-toggleable__control:checked~label.sk-toggleable__label-arrow:before {content: \"▾\";}#sk-container-id-2 div.sk-estimator input.sk-toggleable__control:checked~label.sk-toggleable__label {background-color: #d4ebff;}#sk-container-id-2 div.sk-label input.sk-toggleable__control:checked~label.sk-toggleable__label {background-color: #d4ebff;}#sk-container-id-2 input.sk-hidden--visually {border: 0;clip: rect(1px 1px 1px 1px);clip: rect(1px, 1px, 1px, 1px);height: 1px;margin: -1px;overflow: hidden;padding: 0;position: absolute;width: 1px;}#sk-container-id-2 div.sk-estimator {font-family: monospace;background-color: #f0f8ff;border: 1px dotted black;border-radius: 0.25em;box-sizing: border-box;margin-bottom: 0.5em;}#sk-container-id-2 div.sk-estimator:hover {background-color: #d4ebff;}#sk-container-id-2 div.sk-parallel-item::after {content: \"\";width: 100%;border-bottom: 1px solid gray;flex-grow: 1;}#sk-container-id-2 div.sk-label:hover label.sk-toggleable__label {background-color: #d4ebff;}#sk-container-id-2 div.sk-serial::before {content: \"\";position: absolute;border-left: 1px solid gray;box-sizing: border-box;top: 0;bottom: 0;left: 50%;z-index: 0;}#sk-container-id-2 div.sk-serial {display: flex;flex-direction: column;align-items: center;background-color: white;padding-right: 0.2em;padding-left: 0.2em;position: relative;}#sk-container-id-2 div.sk-item {position: relative;z-index: 1;}#sk-container-id-2 div.sk-parallel {display: flex;align-items: stretch;justify-content: center;background-color: white;position: relative;}#sk-container-id-2 div.sk-item::before, #sk-container-id-2 div.sk-parallel-item::before {content: \"\";position: absolute;border-left: 1px solid gray;box-sizing: border-box;top: 0;bottom: 0;left: 50%;z-index: -1;}#sk-container-id-2 div.sk-parallel-item {display: flex;flex-direction: column;z-index: 1;position: relative;background-color: white;}#sk-container-id-2 div.sk-parallel-item:first-child::after {align-self: flex-end;width: 50%;}#sk-container-id-2 div.sk-parallel-item:last-child::after {align-self: flex-start;width: 50%;}#sk-container-id-2 div.sk-parallel-item:only-child::after {width: 0;}#sk-container-id-2 div.sk-dashed-wrapped {border: 1px dashed gray;margin: 0 0.4em 0.5em 0.4em;box-sizing: border-box;padding-bottom: 0.4em;background-color: white;}#sk-container-id-2 div.sk-label label {font-family: monospace;font-weight: bold;display: inline-block;line-height: 1.2em;}#sk-container-id-2 div.sk-label-container {text-align: center;}#sk-container-id-2 div.sk-container {/* jupyter's `normalize.less` sets `[hidden] { display: none; }` but bootstrap.min.css set `[hidden] { display: none !important; }` so we also need the `!important` here to be able to override the default hidden behavior on the sphinx rendered scikit-learn.org. See: https://github.com/scikit-learn/scikit-learn/issues/21755 */display: inline-block !important;position: relative;}#sk-container-id-2 div.sk-text-repr-fallback {display: none;}</style><div id=\"sk-container-id-2\" class=\"sk-top-container\"><div class=\"sk-text-repr-fallback\"><pre>LogisticRegression()</pre><b>In a Jupyter environment, please rerun this cell to show the HTML representation or trust the notebook. <br />On GitHub, the HTML representation is unable to render, please try loading this page with nbviewer.org.</b></div><div class=\"sk-container\" hidden><div class=\"sk-item\"><div class=\"sk-estimator sk-toggleable\"><input class=\"sk-toggleable__control sk-hidden--visually\" id=\"sk-estimator-id-2\" type=\"checkbox\" checked><label for=\"sk-estimator-id-2\" class=\"sk-toggleable__label sk-toggleable__label-arrow\">LogisticRegression</label><div class=\"sk-toggleable__content\"><pre>LogisticRegression()</pre></div></div></div></div></div>"
      ],
      "text/plain": [
       "LogisticRegression()"
      ]
     },
     "execution_count": 16,
     "metadata": {},
     "output_type": "execute_result"
    }
   ],
   "source": [
    "f_log1.fit(X_train1, y_train1)"
   ]
  },
  {
   "cell_type": "code",
   "execution_count": 17,
   "id": "b6bcd9b8",
   "metadata": {},
   "outputs": [
    {
     "data": {
      "text/plain": [
       "array([0, 0, 0, ..., 1, 1, 0], dtype=int64)"
      ]
     },
     "execution_count": 17,
     "metadata": {},
     "output_type": "execute_result"
    }
   ],
   "source": [
    "# Predicting with the model\n",
    "previsoes1 = f_log1.predict(X_test1)\n",
    "previsoes1"
   ]
  },
  {
   "cell_type": "code",
   "execution_count": 18,
   "id": "bd3d8619",
   "metadata": {},
   "outputs": [],
   "source": [
    "y_previsto_train1 = f_log1.predict(X_train1)"
   ]
  },
  {
   "cell_type": "markdown",
   "id": "5c159749",
   "metadata": {},
   "source": [
    "## Analysing the Model"
   ]
  },
  {
   "cell_type": "markdown",
   "id": "0ac512b0",
   "metadata": {},
   "source": [
    "### Confusion Matrix\n"
   ]
  },
  {
   "cell_type": "code",
   "execution_count": 19,
   "id": "c624cd26",
   "metadata": {},
   "outputs": [
    {
     "data": {
      "text/plain": [
       "array([[ 9337,  2370],\n",
       "       [ 2162, 12107]], dtype=int64)"
      ]
     },
     "execution_count": 19,
     "metadata": {},
     "output_type": "execute_result"
    }
   ],
   "source": [
    "confusion_matrix(y_test1, previsoes1)"
   ]
  },
  {
   "cell_type": "markdown",
   "id": "6bdaa4e2",
   "metadata": {},
   "source": [
    "### Classification Report"
   ]
  },
  {
   "cell_type": "code",
   "execution_count": 20,
   "id": "3199483d",
   "metadata": {
    "scrolled": true
   },
   "outputs": [
    {
     "name": "stdout",
     "output_type": "stream",
     "text": [
      "              precision    recall  f1-score   support\n",
      "\n",
      "           0       0.81      0.80      0.80     11707\n",
      "           1       0.84      0.85      0.84     14269\n",
      "\n",
      "    accuracy                           0.83     25976\n",
      "   macro avg       0.82      0.82      0.82     25976\n",
      "weighted avg       0.83      0.83      0.83     25976\n",
      "\n"
     ]
    }
   ],
   "source": [
    "print(classification_report(y_test1, previsoes1))\n",
    "# recall = acertividade"
   ]
  },
  {
   "cell_type": "markdown",
   "id": "a486abbf",
   "metadata": {},
   "source": [
    "new_data1 = data[['Customer Type', 'Gender', 'Class', 'Seat comfort',\n",
    "       'Inflight wifi service', 'Inflight entertainment', 'Online support',\n",
    "       'Ease of Online booking', 'On-board service', 'Leg room service',\n",
    "       'Baggage handling', 'Checkin service', 'Cleanliness', 'Online boarding']]"
   ]
  },
  {
   "cell_type": "markdown",
   "id": "c215f50d",
   "metadata": {},
   "source": [
    "## Saving the model to test it"
   ]
  },
  {
   "cell_type": "code",
   "execution_count": 22,
   "id": "0f991f13",
   "metadata": {},
   "outputs": [],
   "source": [
    "pickle.dump(f_log1, open('satisfaction_model.pkl', 'wb'))"
   ]
  }
 ],
 "metadata": {
  "kernelspec": {
   "display_name": "Python 3 (ipykernel)",
   "language": "python",
   "name": "python3"
  },
  "language_info": {
   "codemirror_mode": {
    "name": "ipython",
    "version": 3
   },
   "file_extension": ".py",
   "mimetype": "text/x-python",
   "name": "python",
   "nbconvert_exporter": "python",
   "pygments_lexer": "ipython3",
   "version": "3.10.11"
  }
 },
 "nbformat": 4,
 "nbformat_minor": 5
}
