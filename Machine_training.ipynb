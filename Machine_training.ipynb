{
 "cells": [
  {
   "cell_type": "markdown",
   "id": "2d8da08c",
   "metadata": {},
   "source": [
    "## Import"
   ]
  },
  {
   "cell_type": "code",
   "execution_count": 63,
   "id": "b9e7855f",
   "metadata": {},
   "outputs": [],
   "source": [
    "# Importing the libraries\n",
    "\n",
    "import pandas as pd\n",
    "from sklearn.model_selection import train_test_split\n",
    "from sklearn.linear_model import LogisticRegression\n",
    "from sklearn.metrics import accuracy_score\n",
    "from sklearn.metrics import confusion_matrix\n",
    "from sklearn.metrics import classification_report\n",
    "import pickle\n",
    "import xgboost as xgb\n",
    "import matplotlib.pyplot as plt"
   ]
  },
  {
   "cell_type": "code",
   "execution_count": 2,
   "id": "df2e247f",
   "metadata": {},
   "outputs": [],
   "source": [
    "# Importing the dataset\n",
    "\n",
    "url = 'https://raw.githubusercontent.com/liliansom/ML_CustomerSatisfaction/main/data/Invistico_Airline_treated.csv'\n",
    "data = pd.read_csv(url)"
   ]
  },
  {
   "cell_type": "code",
   "execution_count": 3,
   "id": "734b3ade",
   "metadata": {},
   "outputs": [
    {
     "data": {
      "text/html": [
       "<div>\n",
       "<style scoped>\n",
       "    .dataframe tbody tr th:only-of-type {\n",
       "        vertical-align: middle;\n",
       "    }\n",
       "\n",
       "    .dataframe tbody tr th {\n",
       "        vertical-align: top;\n",
       "    }\n",
       "\n",
       "    .dataframe thead th {\n",
       "        text-align: right;\n",
       "    }\n",
       "</style>\n",
       "<table border=\"1\" class=\"dataframe\">\n",
       "  <thead>\n",
       "    <tr style=\"text-align: right;\">\n",
       "      <th></th>\n",
       "      <th>Unnamed: 0</th>\n",
       "      <th>satisfaction</th>\n",
       "      <th>Gender</th>\n",
       "      <th>Customer Type</th>\n",
       "      <th>Age</th>\n",
       "      <th>Type of Travel</th>\n",
       "      <th>Class</th>\n",
       "      <th>Flight Distance</th>\n",
       "      <th>Seat comfort</th>\n",
       "      <th>Departure/Arrival time convenient</th>\n",
       "      <th>...</th>\n",
       "      <th>Online support</th>\n",
       "      <th>Ease of Online booking</th>\n",
       "      <th>On-board service</th>\n",
       "      <th>Leg room service</th>\n",
       "      <th>Baggage handling</th>\n",
       "      <th>Checkin service</th>\n",
       "      <th>Cleanliness</th>\n",
       "      <th>Online boarding</th>\n",
       "      <th>Departure Delay in Minutes</th>\n",
       "      <th>Arrival Delay in Minutes</th>\n",
       "    </tr>\n",
       "  </thead>\n",
       "  <tbody>\n",
       "    <tr>\n",
       "      <th>0</th>\n",
       "      <td>0</td>\n",
       "      <td>1</td>\n",
       "      <td>0</td>\n",
       "      <td>0</td>\n",
       "      <td>65</td>\n",
       "      <td>1</td>\n",
       "      <td>1</td>\n",
       "      <td>265</td>\n",
       "      <td>0</td>\n",
       "      <td>0</td>\n",
       "      <td>...</td>\n",
       "      <td>2</td>\n",
       "      <td>3</td>\n",
       "      <td>3</td>\n",
       "      <td>0</td>\n",
       "      <td>3</td>\n",
       "      <td>5</td>\n",
       "      <td>3</td>\n",
       "      <td>2</td>\n",
       "      <td>0</td>\n",
       "      <td>0.0</td>\n",
       "    </tr>\n",
       "    <tr>\n",
       "      <th>1</th>\n",
       "      <td>1</td>\n",
       "      <td>1</td>\n",
       "      <td>1</td>\n",
       "      <td>0</td>\n",
       "      <td>47</td>\n",
       "      <td>1</td>\n",
       "      <td>0</td>\n",
       "      <td>2464</td>\n",
       "      <td>0</td>\n",
       "      <td>0</td>\n",
       "      <td>...</td>\n",
       "      <td>2</td>\n",
       "      <td>3</td>\n",
       "      <td>4</td>\n",
       "      <td>4</td>\n",
       "      <td>4</td>\n",
       "      <td>2</td>\n",
       "      <td>3</td>\n",
       "      <td>2</td>\n",
       "      <td>310</td>\n",
       "      <td>305.0</td>\n",
       "    </tr>\n",
       "    <tr>\n",
       "      <th>2</th>\n",
       "      <td>2</td>\n",
       "      <td>1</td>\n",
       "      <td>0</td>\n",
       "      <td>0</td>\n",
       "      <td>15</td>\n",
       "      <td>1</td>\n",
       "      <td>1</td>\n",
       "      <td>2138</td>\n",
       "      <td>0</td>\n",
       "      <td>0</td>\n",
       "      <td>...</td>\n",
       "      <td>2</td>\n",
       "      <td>2</td>\n",
       "      <td>3</td>\n",
       "      <td>3</td>\n",
       "      <td>4</td>\n",
       "      <td>4</td>\n",
       "      <td>4</td>\n",
       "      <td>2</td>\n",
       "      <td>0</td>\n",
       "      <td>0.0</td>\n",
       "    </tr>\n",
       "    <tr>\n",
       "      <th>3</th>\n",
       "      <td>3</td>\n",
       "      <td>1</td>\n",
       "      <td>0</td>\n",
       "      <td>0</td>\n",
       "      <td>60</td>\n",
       "      <td>1</td>\n",
       "      <td>1</td>\n",
       "      <td>623</td>\n",
       "      <td>0</td>\n",
       "      <td>0</td>\n",
       "      <td>...</td>\n",
       "      <td>3</td>\n",
       "      <td>1</td>\n",
       "      <td>1</td>\n",
       "      <td>0</td>\n",
       "      <td>1</td>\n",
       "      <td>4</td>\n",
       "      <td>1</td>\n",
       "      <td>3</td>\n",
       "      <td>0</td>\n",
       "      <td>0.0</td>\n",
       "    </tr>\n",
       "    <tr>\n",
       "      <th>4</th>\n",
       "      <td>4</td>\n",
       "      <td>1</td>\n",
       "      <td>0</td>\n",
       "      <td>0</td>\n",
       "      <td>70</td>\n",
       "      <td>1</td>\n",
       "      <td>1</td>\n",
       "      <td>354</td>\n",
       "      <td>0</td>\n",
       "      <td>0</td>\n",
       "      <td>...</td>\n",
       "      <td>4</td>\n",
       "      <td>2</td>\n",
       "      <td>2</td>\n",
       "      <td>0</td>\n",
       "      <td>2</td>\n",
       "      <td>4</td>\n",
       "      <td>2</td>\n",
       "      <td>5</td>\n",
       "      <td>0</td>\n",
       "      <td>0.0</td>\n",
       "    </tr>\n",
       "  </tbody>\n",
       "</table>\n",
       "<p>5 rows × 24 columns</p>\n",
       "</div>"
      ],
      "text/plain": [
       "   Unnamed: 0  satisfaction  Gender  Customer Type  Age  Type of Travel  \\\n",
       "0           0             1       0              0   65               1   \n",
       "1           1             1       1              0   47               1   \n",
       "2           2             1       0              0   15               1   \n",
       "3           3             1       0              0   60               1   \n",
       "4           4             1       0              0   70               1   \n",
       "\n",
       "   Class  Flight Distance  Seat comfort  Departure/Arrival time convenient  \\\n",
       "0      1              265             0                                  0   \n",
       "1      0             2464             0                                  0   \n",
       "2      1             2138             0                                  0   \n",
       "3      1              623             0                                  0   \n",
       "4      1              354             0                                  0   \n",
       "\n",
       "   ...  Online support  Ease of Online booking  On-board service  \\\n",
       "0  ...               2                       3                 3   \n",
       "1  ...               2                       3                 4   \n",
       "2  ...               2                       2                 3   \n",
       "3  ...               3                       1                 1   \n",
       "4  ...               4                       2                 2   \n",
       "\n",
       "   Leg room service  Baggage handling  Checkin service  Cleanliness  \\\n",
       "0                 0                 3                5            3   \n",
       "1                 4                 4                2            3   \n",
       "2                 3                 4                4            4   \n",
       "3                 0                 1                4            1   \n",
       "4                 0                 2                4            2   \n",
       "\n",
       "   Online boarding  Departure Delay in Minutes  Arrival Delay in Minutes  \n",
       "0                2                           0                       0.0  \n",
       "1                2                         310                     305.0  \n",
       "2                2                           0                       0.0  \n",
       "3                3                           0                       0.0  \n",
       "4                5                           0                       0.0  \n",
       "\n",
       "[5 rows x 24 columns]"
      ]
     },
     "execution_count": 3,
     "metadata": {},
     "output_type": "execute_result"
    }
   ],
   "source": [
    "data.head()"
   ]
  },
  {
   "cell_type": "markdown",
   "id": "7767925b",
   "metadata": {},
   "source": [
    "## Model 1"
   ]
  },
  {
   "cell_type": "code",
   "execution_count": 4,
   "id": "8df7579b",
   "metadata": {},
   "outputs": [],
   "source": [
    "# Selecting the variables that will be used at this model\n",
    "new_data = data[['Inflight entertainment', \n",
    "                'Ease of Online booking', \n",
    "                'On-board service', \n",
    "                'Online support', \n",
    "                'Leg room service', \n",
    "                'Online boarding',\n",
    "                'Checkin service',\n",
    "                'Baggage handling',\n",
    "                'Cleanliness',\n",
    "                'Seat comfort',\n",
    "                'Inflight wifi service',\n",
    "                 'Gender',\n",
    "                 'Class',\n",
    "                 'Customer Type'\n",
    "                ]]\n",
    "\n",
    "caracteristicas = new_data\n",
    "previsor = data['satisfaction']"
   ]
  },
  {
   "cell_type": "code",
   "execution_count": 5,
   "id": "9b9c3965",
   "metadata": {},
   "outputs": [],
   "source": [
    "# Spliting the dataset: 80% for train and 10% for test\n",
    "\n",
    "X_train, X_test, y_train, y_test = train_test_split(caracteristicas, previsor, test_size=0.10, shuffle=True)"
   ]
  },
  {
   "cell_type": "code",
   "execution_count": 6,
   "id": "e3aeb510",
   "metadata": {},
   "outputs": [],
   "source": [
    "# Instantiating the model\n",
    "\n",
    "f_log = LogisticRegression()"
   ]
  },
  {
   "cell_type": "code",
   "execution_count": 7,
   "id": "f0052cab",
   "metadata": {},
   "outputs": [
    {
     "data": {
      "text/html": [
       "<style>#sk-container-id-1 {color: black;background-color: white;}#sk-container-id-1 pre{padding: 0;}#sk-container-id-1 div.sk-toggleable {background-color: white;}#sk-container-id-1 label.sk-toggleable__label {cursor: pointer;display: block;width: 100%;margin-bottom: 0;padding: 0.3em;box-sizing: border-box;text-align: center;}#sk-container-id-1 label.sk-toggleable__label-arrow:before {content: \"▸\";float: left;margin-right: 0.25em;color: #696969;}#sk-container-id-1 label.sk-toggleable__label-arrow:hover:before {color: black;}#sk-container-id-1 div.sk-estimator:hover label.sk-toggleable__label-arrow:before {color: black;}#sk-container-id-1 div.sk-toggleable__content {max-height: 0;max-width: 0;overflow: hidden;text-align: left;background-color: #f0f8ff;}#sk-container-id-1 div.sk-toggleable__content pre {margin: 0.2em;color: black;border-radius: 0.25em;background-color: #f0f8ff;}#sk-container-id-1 input.sk-toggleable__control:checked~div.sk-toggleable__content {max-height: 200px;max-width: 100%;overflow: auto;}#sk-container-id-1 input.sk-toggleable__control:checked~label.sk-toggleable__label-arrow:before {content: \"▾\";}#sk-container-id-1 div.sk-estimator input.sk-toggleable__control:checked~label.sk-toggleable__label {background-color: #d4ebff;}#sk-container-id-1 div.sk-label input.sk-toggleable__control:checked~label.sk-toggleable__label {background-color: #d4ebff;}#sk-container-id-1 input.sk-hidden--visually {border: 0;clip: rect(1px 1px 1px 1px);clip: rect(1px, 1px, 1px, 1px);height: 1px;margin: -1px;overflow: hidden;padding: 0;position: absolute;width: 1px;}#sk-container-id-1 div.sk-estimator {font-family: monospace;background-color: #f0f8ff;border: 1px dotted black;border-radius: 0.25em;box-sizing: border-box;margin-bottom: 0.5em;}#sk-container-id-1 div.sk-estimator:hover {background-color: #d4ebff;}#sk-container-id-1 div.sk-parallel-item::after {content: \"\";width: 100%;border-bottom: 1px solid gray;flex-grow: 1;}#sk-container-id-1 div.sk-label:hover label.sk-toggleable__label {background-color: #d4ebff;}#sk-container-id-1 div.sk-serial::before {content: \"\";position: absolute;border-left: 1px solid gray;box-sizing: border-box;top: 0;bottom: 0;left: 50%;z-index: 0;}#sk-container-id-1 div.sk-serial {display: flex;flex-direction: column;align-items: center;background-color: white;padding-right: 0.2em;padding-left: 0.2em;position: relative;}#sk-container-id-1 div.sk-item {position: relative;z-index: 1;}#sk-container-id-1 div.sk-parallel {display: flex;align-items: stretch;justify-content: center;background-color: white;position: relative;}#sk-container-id-1 div.sk-item::before, #sk-container-id-1 div.sk-parallel-item::before {content: \"\";position: absolute;border-left: 1px solid gray;box-sizing: border-box;top: 0;bottom: 0;left: 50%;z-index: -1;}#sk-container-id-1 div.sk-parallel-item {display: flex;flex-direction: column;z-index: 1;position: relative;background-color: white;}#sk-container-id-1 div.sk-parallel-item:first-child::after {align-self: flex-end;width: 50%;}#sk-container-id-1 div.sk-parallel-item:last-child::after {align-self: flex-start;width: 50%;}#sk-container-id-1 div.sk-parallel-item:only-child::after {width: 0;}#sk-container-id-1 div.sk-dashed-wrapped {border: 1px dashed gray;margin: 0 0.4em 0.5em 0.4em;box-sizing: border-box;padding-bottom: 0.4em;background-color: white;}#sk-container-id-1 div.sk-label label {font-family: monospace;font-weight: bold;display: inline-block;line-height: 1.2em;}#sk-container-id-1 div.sk-label-container {text-align: center;}#sk-container-id-1 div.sk-container {/* jupyter's `normalize.less` sets `[hidden] { display: none; }` but bootstrap.min.css set `[hidden] { display: none !important; }` so we also need the `!important` here to be able to override the default hidden behavior on the sphinx rendered scikit-learn.org. See: https://github.com/scikit-learn/scikit-learn/issues/21755 */display: inline-block !important;position: relative;}#sk-container-id-1 div.sk-text-repr-fallback {display: none;}</style><div id=\"sk-container-id-1\" class=\"sk-top-container\"><div class=\"sk-text-repr-fallback\"><pre>LogisticRegression()</pre><b>In a Jupyter environment, please rerun this cell to show the HTML representation or trust the notebook. <br />On GitHub, the HTML representation is unable to render, please try loading this page with nbviewer.org.</b></div><div class=\"sk-container\" hidden><div class=\"sk-item\"><div class=\"sk-estimator sk-toggleable\"><input class=\"sk-toggleable__control sk-hidden--visually\" id=\"sk-estimator-id-1\" type=\"checkbox\" checked><label for=\"sk-estimator-id-1\" class=\"sk-toggleable__label sk-toggleable__label-arrow\">LogisticRegression</label><div class=\"sk-toggleable__content\"><pre>LogisticRegression()</pre></div></div></div></div></div>"
      ],
      "text/plain": [
       "LogisticRegression()"
      ]
     },
     "execution_count": 7,
     "metadata": {},
     "output_type": "execute_result"
    }
   ],
   "source": [
    "f_log.fit(X_train, y_train)"
   ]
  },
  {
   "cell_type": "code",
   "execution_count": 8,
   "id": "9542de8a",
   "metadata": {},
   "outputs": [
    {
     "data": {
      "text/plain": [
       "array([0, 1, 0, ..., 1, 1, 0], dtype=int64)"
      ]
     },
     "execution_count": 8,
     "metadata": {},
     "output_type": "execute_result"
    }
   ],
   "source": [
    "# Predicting with the model\n",
    "previsoes = f_log.predict(X_test)\n",
    "previsoes"
   ]
  },
  {
   "cell_type": "code",
   "execution_count": 9,
   "id": "169a011a",
   "metadata": {},
   "outputs": [],
   "source": [
    "y_previsto_train = f_log.predict(X_train)"
   ]
  },
  {
   "cell_type": "markdown",
   "id": "6934b2a2",
   "metadata": {},
   "source": [
    "## Analysis of the Model"
   ]
  },
  {
   "cell_type": "markdown",
   "id": "b7726180",
   "metadata": {},
   "source": [
    "### Confusion Matrix\n",
    "A confusion matrix is a performance measurement tool used in machine learning to evaluate the accuracy of a classification model. It is a table that visualizes the performance of a model by comparing the actual labels of a dataset with the predicted labels generated by the model.\n",
    "\n",
    "The confusion matrix consists of four key components:\n",
    "\n",
    "1) True Positive (TP): The number of observations that are correctly predicted as positive or belonging to the positive class.\n",
    "\n",
    "2) True Negative (TN): The number of observations that are correctly predicted as negative or belonging to the negative class.\n",
    "\n",
    "3) False Positive (FP): The number of observations that are incorrectly predicted as positive when they actually belong to the negative class. Also known as a Type I error.\n",
    "\n",
    "4) False Negative (FN): The number of observations that are incorrectly predicted as negative when they actually belong to the positive class. Also known as a Type II error."
   ]
  },
  {
   "cell_type": "markdown",
   "id": "b474b219",
   "metadata": {},
   "source": [
    "### Classification Report\n",
    "A classification report is a summary of the performance metrics for a classification model. It provides a comprehensive evaluation of the model's predictive ability for each class in a multi-class classification problem.\n",
    "\n",
    "The classification report typically includes the following metrics for each class:\n",
    "\n",
    "Precision: It measures the proportion of true positive predictions among all positive predictions. It indicates how well the model correctly identifies positive instances for a given class.\n",
    "\n",
    "Recall: Also known as sensitivity or true positive rate, it measures the proportion of true positive predictions among all actual positive instances. It indicates the model's ability to correctly identify positive instances for a given class.\n",
    "\n",
    "F1-score: The F1-score is the harmonic mean of precision and recall. It provides a balanced measure of the model's performance, taking into account both precision and recall. It is often used as a single metric to evaluate the model's overall performance.\n",
    "\n",
    "Support: Support refers to the number of occurrences of each class in the test dataset. It provides insights into the distribution of instances across different classes.\n",
    "\n",
    "The classification report helps in understanding the strengths and weaknesses of the model for each class and can be useful in making decisions regarding model optimization or class-specific performance improvements."
   ]
  },
  {
   "cell_type": "code",
   "execution_count": 10,
   "id": "58d3af61",
   "metadata": {},
   "outputs": [
    {
     "data": {
      "text/plain": [
       "array([[4713, 1173],\n",
       "       [1131, 5971]], dtype=int64)"
      ]
     },
     "execution_count": 10,
     "metadata": {},
     "output_type": "execute_result"
    }
   ],
   "source": [
    "confusion_matrix(y_test, previsoes)"
   ]
  },
  {
   "cell_type": "code",
   "execution_count": 11,
   "id": "cd29e316",
   "metadata": {
    "scrolled": true
   },
   "outputs": [
    {
     "name": "stdout",
     "output_type": "stream",
     "text": [
      "              precision    recall  f1-score   support\n",
      "\n",
      "           0       0.81      0.80      0.80      5886\n",
      "           1       0.84      0.84      0.84      7102\n",
      "\n",
      "    accuracy                           0.82     12988\n",
      "   macro avg       0.82      0.82      0.82     12988\n",
      "weighted avg       0.82      0.82      0.82     12988\n",
      "\n"
     ]
    }
   ],
   "source": [
    "print(classification_report(y_test, previsoes))\n",
    "# recall = acertividade"
   ]
  },
  {
   "cell_type": "markdown",
   "id": "e800c23c",
   "metadata": {},
   "source": [
    "## Model 2 - Balanced dataset"
   ]
  },
  {
   "cell_type": "code",
   "execution_count": 12,
   "id": "ea80434e",
   "metadata": {},
   "outputs": [],
   "source": [
    "# Identifique a coluna específica em que você deseja igualar os valores 0 e 1\n",
    "coluna_alvo = 'satisfaction'\n",
    "\n",
    "# Separe as linhas com valor 0 e 1 em DataFrames diferentes\n",
    "dados_0 = data[data[coluna_alvo] == 0]\n",
    "dados_1 = data[data[coluna_alvo] == 1]\n",
    "\n",
    "# Obtenha o número mínimo de linhas entre os dois DataFrames\n",
    "minimo_linhas = min(len(dados_0), len(dados_1))\n",
    "\n",
    "# Amostra aleatória das linhas com valor 0\n",
    "dados_0_subamostrados = dados_0.sample(n=minimo_linhas, random_state=42)\n",
    "\n",
    "# Amostra aleatória das linhas com valor 1\n",
    "dados_1_subamostrados = dados_1.sample(n=minimo_linhas, random_state=42)\n",
    "\n",
    "# Concatene os DataFrames subamostrados de volta em um único DataFrame\n",
    "data_balanceado = pd.concat([dados_0_subamostrados, dados_1_subamostrados])\n",
    "\n",
    "# Embaralhe as linhas do DataFrame resultante\n",
    "data_bal = data_balanceado.sample(frac=1, random_state=42)\n"
   ]
  },
  {
   "cell_type": "code",
   "execution_count": 13,
   "id": "f1490dc2",
   "metadata": {
    "scrolled": true
   },
   "outputs": [
    {
     "data": {
      "text/plain": [
       "1    58793\n",
       "0    58793\n",
       "Name: satisfaction, dtype: int64"
      ]
     },
     "execution_count": 13,
     "metadata": {},
     "output_type": "execute_result"
    }
   ],
   "source": [
    "data_bal['satisfaction'].value_counts()"
   ]
  },
  {
   "cell_type": "code",
   "execution_count": 14,
   "id": "7ca4c065",
   "metadata": {},
   "outputs": [],
   "source": [
    "# Selecting the variables that will be used at this model\n",
    "new_data1 = data_bal[['Inflight entertainment', \n",
    "                'Ease of Online booking', \n",
    "                'On-board service', \n",
    "                'Online support', \n",
    "                'Leg room service', \n",
    "                'Online boarding',\n",
    "                'Checkin service',\n",
    "                'Baggage handling',\n",
    "                'Cleanliness',\n",
    "                'Seat comfort',\n",
    "                'Inflight wifi service',\n",
    "                 'Gender',\n",
    "                 'Class',\n",
    "                 'Customer Type',\n",
    "                 \n",
    "                ]]\n",
    "\n",
    "caracteristicas1 = new_data1\n",
    "previsor1 = data_bal['satisfaction']"
   ]
  },
  {
   "cell_type": "code",
   "execution_count": 15,
   "id": "c6aa9736",
   "metadata": {},
   "outputs": [],
   "source": [
    "# Spliting the dataset: 80% for train and 20% for test\n",
    "X_train1, X_test1, y_train1, y_test1 = train_test_split(caracteristicas1, previsor1, test_size=0.10, shuffle=True)"
   ]
  },
  {
   "cell_type": "code",
   "execution_count": 16,
   "id": "2df39666",
   "metadata": {},
   "outputs": [],
   "source": [
    "# Instantiating the model\n",
    "f_log1 = LogisticRegression()"
   ]
  },
  {
   "cell_type": "code",
   "execution_count": 17,
   "id": "5e7c0bc7",
   "metadata": {},
   "outputs": [
    {
     "data": {
      "text/html": [
       "<style>#sk-container-id-2 {color: black;background-color: white;}#sk-container-id-2 pre{padding: 0;}#sk-container-id-2 div.sk-toggleable {background-color: white;}#sk-container-id-2 label.sk-toggleable__label {cursor: pointer;display: block;width: 100%;margin-bottom: 0;padding: 0.3em;box-sizing: border-box;text-align: center;}#sk-container-id-2 label.sk-toggleable__label-arrow:before {content: \"▸\";float: left;margin-right: 0.25em;color: #696969;}#sk-container-id-2 label.sk-toggleable__label-arrow:hover:before {color: black;}#sk-container-id-2 div.sk-estimator:hover label.sk-toggleable__label-arrow:before {color: black;}#sk-container-id-2 div.sk-toggleable__content {max-height: 0;max-width: 0;overflow: hidden;text-align: left;background-color: #f0f8ff;}#sk-container-id-2 div.sk-toggleable__content pre {margin: 0.2em;color: black;border-radius: 0.25em;background-color: #f0f8ff;}#sk-container-id-2 input.sk-toggleable__control:checked~div.sk-toggleable__content {max-height: 200px;max-width: 100%;overflow: auto;}#sk-container-id-2 input.sk-toggleable__control:checked~label.sk-toggleable__label-arrow:before {content: \"▾\";}#sk-container-id-2 div.sk-estimator input.sk-toggleable__control:checked~label.sk-toggleable__label {background-color: #d4ebff;}#sk-container-id-2 div.sk-label input.sk-toggleable__control:checked~label.sk-toggleable__label {background-color: #d4ebff;}#sk-container-id-2 input.sk-hidden--visually {border: 0;clip: rect(1px 1px 1px 1px);clip: rect(1px, 1px, 1px, 1px);height: 1px;margin: -1px;overflow: hidden;padding: 0;position: absolute;width: 1px;}#sk-container-id-2 div.sk-estimator {font-family: monospace;background-color: #f0f8ff;border: 1px dotted black;border-radius: 0.25em;box-sizing: border-box;margin-bottom: 0.5em;}#sk-container-id-2 div.sk-estimator:hover {background-color: #d4ebff;}#sk-container-id-2 div.sk-parallel-item::after {content: \"\";width: 100%;border-bottom: 1px solid gray;flex-grow: 1;}#sk-container-id-2 div.sk-label:hover label.sk-toggleable__label {background-color: #d4ebff;}#sk-container-id-2 div.sk-serial::before {content: \"\";position: absolute;border-left: 1px solid gray;box-sizing: border-box;top: 0;bottom: 0;left: 50%;z-index: 0;}#sk-container-id-2 div.sk-serial {display: flex;flex-direction: column;align-items: center;background-color: white;padding-right: 0.2em;padding-left: 0.2em;position: relative;}#sk-container-id-2 div.sk-item {position: relative;z-index: 1;}#sk-container-id-2 div.sk-parallel {display: flex;align-items: stretch;justify-content: center;background-color: white;position: relative;}#sk-container-id-2 div.sk-item::before, #sk-container-id-2 div.sk-parallel-item::before {content: \"\";position: absolute;border-left: 1px solid gray;box-sizing: border-box;top: 0;bottom: 0;left: 50%;z-index: -1;}#sk-container-id-2 div.sk-parallel-item {display: flex;flex-direction: column;z-index: 1;position: relative;background-color: white;}#sk-container-id-2 div.sk-parallel-item:first-child::after {align-self: flex-end;width: 50%;}#sk-container-id-2 div.sk-parallel-item:last-child::after {align-self: flex-start;width: 50%;}#sk-container-id-2 div.sk-parallel-item:only-child::after {width: 0;}#sk-container-id-2 div.sk-dashed-wrapped {border: 1px dashed gray;margin: 0 0.4em 0.5em 0.4em;box-sizing: border-box;padding-bottom: 0.4em;background-color: white;}#sk-container-id-2 div.sk-label label {font-family: monospace;font-weight: bold;display: inline-block;line-height: 1.2em;}#sk-container-id-2 div.sk-label-container {text-align: center;}#sk-container-id-2 div.sk-container {/* jupyter's `normalize.less` sets `[hidden] { display: none; }` but bootstrap.min.css set `[hidden] { display: none !important; }` so we also need the `!important` here to be able to override the default hidden behavior on the sphinx rendered scikit-learn.org. See: https://github.com/scikit-learn/scikit-learn/issues/21755 */display: inline-block !important;position: relative;}#sk-container-id-2 div.sk-text-repr-fallback {display: none;}</style><div id=\"sk-container-id-2\" class=\"sk-top-container\"><div class=\"sk-text-repr-fallback\"><pre>LogisticRegression()</pre><b>In a Jupyter environment, please rerun this cell to show the HTML representation or trust the notebook. <br />On GitHub, the HTML representation is unable to render, please try loading this page with nbviewer.org.</b></div><div class=\"sk-container\" hidden><div class=\"sk-item\"><div class=\"sk-estimator sk-toggleable\"><input class=\"sk-toggleable__control sk-hidden--visually\" id=\"sk-estimator-id-2\" type=\"checkbox\" checked><label for=\"sk-estimator-id-2\" class=\"sk-toggleable__label sk-toggleable__label-arrow\">LogisticRegression</label><div class=\"sk-toggleable__content\"><pre>LogisticRegression()</pre></div></div></div></div></div>"
      ],
      "text/plain": [
       "LogisticRegression()"
      ]
     },
     "execution_count": 17,
     "metadata": {},
     "output_type": "execute_result"
    }
   ],
   "source": [
    "f_log1.fit(X_train1, y_train1)"
   ]
  },
  {
   "cell_type": "code",
   "execution_count": 18,
   "id": "b6bcd9b8",
   "metadata": {},
   "outputs": [
    {
     "data": {
      "text/plain": [
       "array([0, 1, 1, ..., 0, 0, 1], dtype=int64)"
      ]
     },
     "execution_count": 18,
     "metadata": {},
     "output_type": "execute_result"
    }
   ],
   "source": [
    "# Predicting with the model\n",
    "previsoes1 = f_log1.predict(X_test1)\n",
    "previsoes1"
   ]
  },
  {
   "cell_type": "code",
   "execution_count": 19,
   "id": "bd3d8619",
   "metadata": {},
   "outputs": [],
   "source": [
    "y_previsto_train1 = f_log1.predict(X_train1)"
   ]
  },
  {
   "cell_type": "markdown",
   "id": "5c159749",
   "metadata": {},
   "source": [
    "## Analysing the Model"
   ]
  },
  {
   "cell_type": "markdown",
   "id": "0ac512b0",
   "metadata": {},
   "source": [
    "### Confusion Matrix\n"
   ]
  },
  {
   "cell_type": "code",
   "execution_count": 20,
   "id": "c624cd26",
   "metadata": {
    "scrolled": false
   },
   "outputs": [
    {
     "data": {
      "text/plain": [
       "array([[4984,  966],\n",
       "       [1052, 4757]], dtype=int64)"
      ]
     },
     "execution_count": 20,
     "metadata": {},
     "output_type": "execute_result"
    }
   ],
   "source": [
    "confusion_matrix(y_test1, previsoes1)"
   ]
  },
  {
   "cell_type": "markdown",
   "id": "6bdaa4e2",
   "metadata": {},
   "source": [
    "### Classification Report"
   ]
  },
  {
   "cell_type": "code",
   "execution_count": 21,
   "id": "3199483d",
   "metadata": {
    "scrolled": false
   },
   "outputs": [
    {
     "name": "stdout",
     "output_type": "stream",
     "text": [
      "              precision    recall  f1-score   support\n",
      "\n",
      "           0       0.83      0.84      0.83      5950\n",
      "           1       0.83      0.82      0.83      5809\n",
      "\n",
      "    accuracy                           0.83     11759\n",
      "   macro avg       0.83      0.83      0.83     11759\n",
      "weighted avg       0.83      0.83      0.83     11759\n",
      "\n"
     ]
    }
   ],
   "source": [
    "print(classification_report(y_test1, previsoes1))\n",
    "# recall = acertividade"
   ]
  },
  {
   "cell_type": "markdown",
   "id": "a486abbf",
   "metadata": {},
   "source": [
    "new_data1 = data[['Customer Type', 'Gender', 'Class', 'Seat comfort',\n",
    "       'Inflight wifi service', 'Inflight entertainment', 'Online support',\n",
    "       'Ease of Online booking', 'On-board service', 'Leg room service',\n",
    "       'Baggage handling', 'Checkin service', 'Cleanliness', 'Online boarding']]"
   ]
  },
  {
   "cell_type": "markdown",
   "id": "140a78ee",
   "metadata": {},
   "source": [
    "# Model 3 - More variables"
   ]
  },
  {
   "cell_type": "code",
   "execution_count": 51,
   "id": "e40f478c",
   "metadata": {},
   "outputs": [],
   "source": [
    "# Selecting the variables that will be used at this model\n",
    "new_data2 = data_bal[['Inflight entertainment', \n",
    "                'Ease of Online booking', \n",
    "                'On-board service', \n",
    "                'Online support', \n",
    "                'Leg room service', \n",
    "                'Online boarding',\n",
    "                'Checkin service',\n",
    "                'Baggage handling',\n",
    "                'Cleanliness',\n",
    "                'Seat comfort',\n",
    "                'Inflight wifi service',\n",
    "                 'Gender',\n",
    "                 'Class',\n",
    "                 'Customer Type'                 \n",
    "                ]]\n",
    "\n",
    "caracteristicas2 = new_data2\n",
    "previsor2 = data_bal['satisfaction']"
   ]
  },
  {
   "cell_type": "code",
   "execution_count": 52,
   "id": "79a2538c",
   "metadata": {},
   "outputs": [],
   "source": [
    "# Spliting the dataset: 80% for train and 20% for test\n",
    "X_train2, X_test2, y_train2, y_test2 = train_test_split(caracteristicas2, previsor2, test_size=0.10, shuffle=True)"
   ]
  },
  {
   "cell_type": "code",
   "execution_count": 80,
   "id": "b93e0cec",
   "metadata": {},
   "outputs": [
    {
     "name": "stdout",
     "output_type": "stream",
     "text": [
      "(105827, 14),(11759, 14),(105827,),(11759,)\n"
     ]
    }
   ],
   "source": [
    "print(\"{},{},{},{}\".format(X_train2.shape, X_test2.shape, y_train2.shape, y_test2.shape))\n"
   ]
  },
  {
   "cell_type": "code",
   "execution_count": 94,
   "id": "caf40644",
   "metadata": {},
   "outputs": [],
   "source": [
    "# Criar a matriz de dados específica do XGBoost\n",
    "dados_treino = xgb.DMatrix(X_train2, label=y_train2)"
   ]
  },
  {
   "cell_type": "code",
   "execution_count": 95,
   "id": "f44ca64d",
   "metadata": {},
   "outputs": [],
   "source": [
    "# Definir os parâmetros do modelo\n",
    "parametros = {\n",
    "    'max_depth': 3,\n",
    "    'eta': 0.1,\n",
    "    'objective': 'binary:logistic',\n",
    "    'eval_metric': 'logloss'\n",
    "}"
   ]
  },
  {
   "cell_type": "code",
   "execution_count": 96,
   "id": "239ce472",
   "metadata": {},
   "outputs": [],
   "source": [
    "# Treinar o modelo\n",
    "xgb_model = xgb.train(parametros, dados_treino, num_boost_round=100)"
   ]
  },
  {
   "cell_type": "code",
   "execution_count": 97,
   "id": "f5842699",
   "metadata": {},
   "outputs": [],
   "source": [
    "# Prever os rótulos do conjunto de teste\n",
    "dados_teste = xgb.DMatrix(X_test2)\n",
    "predicoes = xgb_model.predict(dados_teste)"
   ]
  },
  {
   "cell_type": "code",
   "execution_count": 98,
   "id": "8c9af123",
   "metadata": {},
   "outputs": [],
   "source": [
    "# Arredondar as predições para obter rótulos binários\n",
    "predicoes_binarias = [round(valor) for valor in predicoes]"
   ]
  },
  {
   "cell_type": "markdown",
   "id": "a93ec33c",
   "metadata": {},
   "source": [
    "# Analysing the Model"
   ]
  },
  {
   "cell_type": "code",
   "execution_count": 99,
   "id": "2263a892",
   "metadata": {},
   "outputs": [
    {
     "name": "stdout",
     "output_type": "stream",
     "text": [
      "Precisão: 91.05%\n"
     ]
    }
   ],
   "source": [
    "# Avaliar a precisão do modelo\n",
    "precisao = accuracy_score(y_test2, predicoes_binarias)\n",
    "print(\"Precisão: %.2f%%\" % (precisao * 100.0))"
   ]
  },
  {
   "cell_type": "code",
   "execution_count": 100,
   "id": "02465e30",
   "metadata": {},
   "outputs": [
    {
     "data": {
      "image/png": "[encoded data removed]",
      "text/plain": [
       "<Figure size 640x480 with 1 Axes>"
      ]
     },
     "metadata": {},
     "output_type": "display_data"
    }
   ],
   "source": [
    "# Obter a importância das features no modelo treinado\n",
    "feature_importance = xgb_model.get_score(importance_type=\"gain\")\n",
    "\n",
    "# Ordenar as features pela importância\n",
    "sorted_feature_importance = sorted(feature_importance.items(), key=lambda x: x[1], reverse=True)\n",
    "\n",
    "# Separar as features e suas importâncias\n",
    "features = [x[0] for x in sorted_feature_importance]\n",
    "importances = [x[1] for x in sorted_feature_importance]\n",
    "\n",
    "# Plotar a importância das features\n",
    "plt.bar(features, importances)\n",
    "plt.xlabel(\"Features\")\n",
    "plt.ylabel(\"Importance\")\n",
    "plt.xticks(rotation=90)\n",
    "plt.show()\n"
   ]
  },
  {
   "cell_type": "code",
   "execution_count": 103,
   "id": "c7d90c4a",
   "metadata": {},
   "outputs": [
    {
     "name": "stdout",
     "output_type": "stream",
     "text": [
      "Matriz de Confusão:\n",
      "[[5426  492]\n",
      " [ 560 5281]]\n"
     ]
    }
   ],
   "source": [
    "import xgboost as xgb\n",
    "from sklearn.metrics import accuracy_score, confusion_matrix, roc_curve, roc_auc_score\n",
    "from sklearn.model_selection import cross_val_score\n",
    "\n",
    "# Calcule a matriz de confusão\n",
    "confusion_mtx = confusion_matrix(y_test2, predicoes_binarias)\n",
    "print(\"Matriz de Confusão:\")\n",
    "print(confusion_mtx)\n"
   ]
  },
  {
   "cell_type": "code",
   "execution_count": 113,
   "id": "4b6f42ca",
   "metadata": {
    "scrolled": true
   },
   "outputs": [
    {
     "data": {
      "image/png": "[encoded data removed]",
      "text/plain": [
       "<Figure size 640x480 with 1 Axes>"
      ]
     },
     "metadata": {},
     "output_type": "display_data"
    }
   ],
   "source": [
    "import xgboost as xgb\n",
    "import numpy as np\n",
    "import matplotlib.pyplot as plt\n",
    "from sklearn.metrics import roc_curve, roc_auc_score\n",
    "\n",
    "# Converter os dados de teste em um DMatrix\n",
    "dtest = xgb.DMatrix(X_test2)\n",
    "\n",
    "# Obter as previsões do modelo (valores de score)\n",
    "y_scores = xgb_model.predict(dtest)\n",
    "\n",
    "# Aplicar a função de transformação sigmoid para obter as probabilidades\n",
    "y_prob = 1 / (1 + np.exp(-y_scores))\n",
    "\n",
    "# Calcular a taxa de falsos positivos, taxa de verdadeiros positivos e limiares\n",
    "fpr, tpr, thresholds = roc_curve(y_test2, y_prob)\n",
    "\n",
    "# Calcular a área sob a curva ROC\n",
    "auc = roc_auc_score(y_test2, y_prob)\n",
    "\n",
    "# Plotar a curva ROC\n",
    "plt.plot(fpr, tpr, label='Curva ROC (AUC = {:.2f})'.format(auc))\n",
    "plt.plot([0, 1], [0, 1], 'k--', label='Aleatório')\n",
    "plt.xlabel('Taxa de Falsos Positivos')\n",
    "plt.ylabel('Taxa de Verdadeiros Positivos')\n",
    "plt.title('Curva ROC')\n",
    "plt.legend()\n",
    "plt.show()\n"
   ]
  },
  {
   "cell_type": "code",
   "execution_count": 117,
   "id": "f4f7a25a",
   "metadata": {},
   "outputs": [
    {
     "name": "stdout",
     "output_type": "stream",
     "text": [
      "Pontuações da validação cruzada: [0.94136823 0.94023434 0.94306638 0.94065674 0.94448382]\n",
      "Precisão média da validação cruzada: 0.9419619031176929\n"
     ]
    }
   ],
   "source": [
    "import xgboost as xgb\n",
    "from sklearn.model_selection import cross_val_score\n",
    "\n",
    "# Crie um objeto estimador XGBoost\n",
    "xgb_model = xgb.XGBClassifier()\n",
    "\n",
    "# Realize a validação cruzada com 5 folds\n",
    "cv_scores = cross_val_score(xgb_model, X_train2, y_train2, cv=5)\n",
    "\n",
    "print(\"Pontuações da validação cruzada:\", cv_scores)\n",
    "print(\"Precisão média da validação cruzada:\", cv_scores.mean())\n"
   ]
  },
  {
   "cell_type": "markdown",
   "id": "c215f50d",
   "metadata": {},
   "source": [
    "## Saving the model to test it"
   ]
  },
  {
   "cell_type": "code",
   "execution_count": 118,
   "id": "0f991f13",
   "metadata": {},
   "outputs": [],
   "source": [
    "#pickle.dump(xgb_model, open('xgb_model.pkl', 'wb'))"
   ]
  },
  {
   "cell_type": "code",
   "execution_count": null,
   "id": "16d752c4",
   "metadata": {},
   "outputs": [],
   "source": []
  }
 ],
 "metadata": {
  "kernelspec": {
   "display_name": "Python 3 (ipykernel)",
   "language": "python",
   "name": "python3"
  },
  "language_info": {
   "codemirror_mode": {
    "name": "ipython",
    "version": 3
   },
   "file_extension": ".py",
   "mimetype": "text/x-python",
   "name": "python",
   "nbconvert_exporter": "python",
   "pygments_lexer": "ipython3",
   "version": "3.9.16"
  }
 },
 "nbformat": 4,
 "nbformat_minor": 5
}
